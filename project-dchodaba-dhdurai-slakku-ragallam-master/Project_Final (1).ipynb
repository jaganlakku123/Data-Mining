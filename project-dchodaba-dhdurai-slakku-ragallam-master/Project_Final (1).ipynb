{
 "cells": [
  {
   "cell_type": "code",
   "execution_count": 153,
   "metadata": {},
   "outputs": [],
   "source": [
    "import pandas as pd\n",
    "\n",
    "bbbp_df = pd.read_csv('/Users/jagan/Downloads/BBBP_Descriptors/BBBP_df_revised.csv')"
   ]
  },
  {
   "cell_type": "code",
   "execution_count": 154,
   "metadata": {},
   "outputs": [
    {
     "data": {
      "text/html": [
       "<div>\n",
       "<style scoped>\n",
       "    .dataframe tbody tr th:only-of-type {\n",
       "        vertical-align: middle;\n",
       "    }\n",
       "\n",
       "    .dataframe tbody tr th {\n",
       "        vertical-align: top;\n",
       "    }\n",
       "\n",
       "    .dataframe thead th {\n",
       "        text-align: right;\n",
       "    }\n",
       "</style>\n",
       "<table border=\"1\" class=\"dataframe\">\n",
       "  <thead>\n",
       "    <tr style=\"text-align: right;\">\n",
       "      <th></th>\n",
       "      <th>num</th>\n",
       "      <th>name</th>\n",
       "      <th>p_np</th>\n",
       "      <th>smiles</th>\n",
       "    </tr>\n",
       "  </thead>\n",
       "  <tbody>\n",
       "    <tr>\n",
       "      <th>0</th>\n",
       "      <td>1</td>\n",
       "      <td>Propanolol</td>\n",
       "      <td>1</td>\n",
       "      <td>[Cl].CC(C)NCC(O)COc1cccc2ccccc12</td>\n",
       "    </tr>\n",
       "    <tr>\n",
       "      <th>1</th>\n",
       "      <td>2</td>\n",
       "      <td>Terbutylchlorambucil</td>\n",
       "      <td>1</td>\n",
       "      <td>C(=O)(OC(C)(C)C)CCCc1ccc(cc1)N(CCCl)CCCl</td>\n",
       "    </tr>\n",
       "    <tr>\n",
       "      <th>2</th>\n",
       "      <td>3</td>\n",
       "      <td>40730</td>\n",
       "      <td>1</td>\n",
       "      <td>c12c3c(N4CCN(C)CC4)c(F)cc1c(c(C(O)=O)cn2C(C)CO...</td>\n",
       "    </tr>\n",
       "    <tr>\n",
       "      <th>3</th>\n",
       "      <td>4</td>\n",
       "      <td>24</td>\n",
       "      <td>1</td>\n",
       "      <td>C1CCN(CC1)Cc1cccc(c1)OCCCNC(=O)C</td>\n",
       "    </tr>\n",
       "    <tr>\n",
       "      <th>4</th>\n",
       "      <td>5</td>\n",
       "      <td>cloxacillin</td>\n",
       "      <td>1</td>\n",
       "      <td>Cc1onc(c2ccccc2Cl)c1C(=O)N[C@H]3[C@H]4SC(C)(C)...</td>\n",
       "    </tr>\n",
       "  </tbody>\n",
       "</table>\n",
       "</div>"
      ],
      "text/plain": [
       "   num                  name  p_np  \\\n",
       "0    1            Propanolol     1   \n",
       "1    2  Terbutylchlorambucil     1   \n",
       "2    3                 40730     1   \n",
       "3    4                    24     1   \n",
       "4    5           cloxacillin     1   \n",
       "\n",
       "                                              smiles  \n",
       "0                   [Cl].CC(C)NCC(O)COc1cccc2ccccc12  \n",
       "1           C(=O)(OC(C)(C)C)CCCc1ccc(cc1)N(CCCl)CCCl  \n",
       "2  c12c3c(N4CCN(C)CC4)c(F)cc1c(c(C(O)=O)cn2C(C)CO...  \n",
       "3                   C1CCN(CC1)Cc1cccc(c1)OCCCNC(=O)C  \n",
       "4  Cc1onc(c2ccccc2Cl)c1C(=O)N[C@H]3[C@H]4SC(C)(C)...  "
      ]
     },
     "execution_count": 154,
     "metadata": {},
     "output_type": "execute_result"
    }
   ],
   "source": [
    "bbbp_df.head()"
   ]
  },
  {
   "cell_type": "code",
   "execution_count": 155,
   "metadata": {},
   "outputs": [
    {
     "name": "stdout",
     "output_type": "stream",
     "text": [
      "num\n",
      "name\n",
      "p_np\n",
      "smiles\n"
     ]
    }
   ],
   "source": [
    "for col in bbbp_df.columns:\n",
    "    print(col)"
   ]
  },
  {
   "cell_type": "code",
   "execution_count": 144,
   "metadata": {},
   "outputs": [
    {
     "data": {
      "text/plain": [
       "(2039, 4)"
      ]
     },
     "execution_count": 144,
     "metadata": {},
     "output_type": "execute_result"
    }
   ],
   "source": [
    "bbbp_df.shape"
   ]
  },
  {
   "cell_type": "code",
   "execution_count": 156,
   "metadata": {},
   "outputs": [],
   "source": [
    "column_to_move = bbbp_df.pop('p_np')\n",
    "\n",
    "\n",
    "bbbp_df.insert(3, 'p_np', column_to_move)"
   ]
  },
  {
   "cell_type": "code",
   "execution_count": 158,
   "metadata": {},
   "outputs": [
    {
     "data": {
      "text/html": [
       "<div>\n",
       "<style scoped>\n",
       "    .dataframe tbody tr th:only-of-type {\n",
       "        vertical-align: middle;\n",
       "    }\n",
       "\n",
       "    .dataframe tbody tr th {\n",
       "        vertical-align: top;\n",
       "    }\n",
       "\n",
       "    .dataframe thead th {\n",
       "        text-align: right;\n",
       "    }\n",
       "</style>\n",
       "<table border=\"1\" class=\"dataframe\">\n",
       "  <thead>\n",
       "    <tr style=\"text-align: right;\">\n",
       "      <th></th>\n",
       "      <th>num</th>\n",
       "      <th>name</th>\n",
       "      <th>smiles</th>\n",
       "      <th>p_np</th>\n",
       "    </tr>\n",
       "  </thead>\n",
       "  <tbody>\n",
       "    <tr>\n",
       "      <th>0</th>\n",
       "      <td>1</td>\n",
       "      <td>Propanolol</td>\n",
       "      <td>[Cl].CC(C)NCC(O)COc1cccc2ccccc12</td>\n",
       "      <td>1</td>\n",
       "    </tr>\n",
       "    <tr>\n",
       "      <th>1</th>\n",
       "      <td>2</td>\n",
       "      <td>Terbutylchlorambucil</td>\n",
       "      <td>C(=O)(OC(C)(C)C)CCCc1ccc(cc1)N(CCCl)CCCl</td>\n",
       "      <td>1</td>\n",
       "    </tr>\n",
       "    <tr>\n",
       "      <th>2</th>\n",
       "      <td>3</td>\n",
       "      <td>40730</td>\n",
       "      <td>c12c3c(N4CCN(C)CC4)c(F)cc1c(c(C(O)=O)cn2C(C)CO...</td>\n",
       "      <td>1</td>\n",
       "    </tr>\n",
       "    <tr>\n",
       "      <th>3</th>\n",
       "      <td>4</td>\n",
       "      <td>24</td>\n",
       "      <td>C1CCN(CC1)Cc1cccc(c1)OCCCNC(=O)C</td>\n",
       "      <td>1</td>\n",
       "    </tr>\n",
       "    <tr>\n",
       "      <th>4</th>\n",
       "      <td>5</td>\n",
       "      <td>cloxacillin</td>\n",
       "      <td>Cc1onc(c2ccccc2Cl)c1C(=O)N[C@H]3[C@H]4SC(C)(C)...</td>\n",
       "      <td>1</td>\n",
       "    </tr>\n",
       "  </tbody>\n",
       "</table>\n",
       "</div>"
      ],
      "text/plain": [
       "   num                  name  \\\n",
       "0    1            Propanolol   \n",
       "1    2  Terbutylchlorambucil   \n",
       "2    3                 40730   \n",
       "3    4                    24   \n",
       "4    5           cloxacillin   \n",
       "\n",
       "                                              smiles  p_np  \n",
       "0                   [Cl].CC(C)NCC(O)COc1cccc2ccccc12     1  \n",
       "1           C(=O)(OC(C)(C)C)CCCc1ccc(cc1)N(CCCl)CCCl     1  \n",
       "2  c12c3c(N4CCN(C)CC4)c(F)cc1c(c(C(O)=O)cn2C(C)CO...     1  \n",
       "3                   C1CCN(CC1)Cc1cccc(c1)OCCCNC(=O)C     1  \n",
       "4  Cc1onc(c2ccccc2Cl)c1C(=O)N[C@H]3[C@H]4SC(C)(C)...     1  "
      ]
     },
     "execution_count": 158,
     "metadata": {},
     "output_type": "execute_result"
    }
   ],
   "source": [
    "bbbp_df.head()"
   ]
  },
  {
   "cell_type": "code",
   "execution_count": 166,
   "metadata": {},
   "outputs": [
    {
     "data": {
      "image/png": "[encoded data removed]",
      "text/plain": [
       "<Figure size 360x360 with 2 Axes>"
      ]
     },
     "metadata": {
      "image/png": {
       "height": 320,
       "width": 311
      }
     },
     "output_type": "display_data"
    }
   ],
   "source": [
    "\n",
    "X = bbbp_df.iloc[:,0:2]  #independent columns\n",
    "y = bbbp_df.iloc[:,-1]    #target column i.e price range\n",
    "#get correlations of each features in dataset\n",
    "corrmat = bbbp_df.corr()\n",
    "top_corr_features = corrmat.index\n",
    "plt.figure(figsize=(5,5))\n",
    "#plot heat map\n",
    "g=sns.heatmap(bbbp_df[top_corr_features].corr(),annot=True,cmap=\"RdYlGn\")\n"
   ]
  },
  {
   "cell_type": "code",
   "execution_count": 107,
   "metadata": {},
   "outputs": [],
   "source": [
    "import deepchem as dc\n",
    "from deepchem.molnet.load_function.molnet_loader import TransformerGenerator, _MolnetLoader\n",
    "from deepchem.data import Dataset"
   ]
  },
  {
   "cell_type": "code",
   "execution_count": 108,
   "metadata": {},
   "outputs": [
    {
     "name": "stderr",
     "output_type": "stream",
     "text": [
      "[00:24:23] Explicit valence for atom # 1 N, 4, is greater than permitted\n",
      "Failed to featurize datapoint 59, None. Appending empty array\n",
      "Exception message: Python argument types in\n",
      "    rdkit.Chem.rdmolfiles.CanonicalRankAtoms(NoneType)\n",
      "did not match C++ signature:\n",
      "    CanonicalRankAtoms(RDKit::ROMol mol, bool breakTies=True, bool includeChirality=True, bool includeIsotopes=True)\n",
      "[00:24:23] WARNING: not removing hydrogen atom without neighbors\n",
      "[00:24:23] Explicit valence for atom # 6 N, 4, is greater than permitted\n",
      "Failed to featurize datapoint 61, None. Appending empty array\n",
      "Exception message: Python argument types in\n",
      "    rdkit.Chem.rdmolfiles.CanonicalRankAtoms(NoneType)\n",
      "did not match C++ signature:\n",
      "    CanonicalRankAtoms(RDKit::ROMol mol, bool breakTies=True, bool includeChirality=True, bool includeIsotopes=True)\n",
      "[00:24:23] WARNING: not removing hydrogen atom without neighbors\n",
      "[00:24:24] WARNING: not removing hydrogen atom without neighbors\n",
      "[00:24:24] WARNING: not removing hydrogen atom without neighbors\n",
      "[00:24:24] WARNING: not removing hydrogen atom without neighbors\n",
      "[00:24:24] WARNING: not removing hydrogen atom without neighbors\n",
      "[00:24:24] WARNING: not removing hydrogen atom without neighbors\n",
      "[00:24:25] Explicit valence for atom # 6 N, 4, is greater than permitted\n",
      "Failed to featurize datapoint 391, None. Appending empty array\n",
      "Exception message: Python argument types in\n",
      "    rdkit.Chem.rdmolfiles.CanonicalRankAtoms(NoneType)\n",
      "did not match C++ signature:\n",
      "    CanonicalRankAtoms(RDKit::ROMol mol, bool breakTies=True, bool includeChirality=True, bool includeIsotopes=True)\n",
      "[00:24:25] WARNING: not removing hydrogen atom without neighbors\n",
      "[00:24:25] WARNING: not removing hydrogen atom without neighbors\n",
      "[00:24:26] WARNING: not removing hydrogen atom without neighbors\n",
      "[00:24:27] WARNING: not removing hydrogen atom without neighbors\n",
      "[00:24:27] Explicit valence for atom # 11 N, 4, is greater than permitted\n",
      "Failed to featurize datapoint 614, None. Appending empty array\n",
      "Exception message: Python argument types in\n",
      "    rdkit.Chem.rdmolfiles.CanonicalRankAtoms(NoneType)\n",
      "did not match C++ signature:\n",
      "    CanonicalRankAtoms(RDKit::ROMol mol, bool breakTies=True, bool includeChirality=True, bool includeIsotopes=True)\n",
      "[00:24:27] Explicit valence for atom # 12 N, 4, is greater than permitted\n",
      "Failed to featurize datapoint 642, None. Appending empty array\n",
      "Exception message: Python argument types in\n",
      "    rdkit.Chem.rdmolfiles.CanonicalRankAtoms(NoneType)\n",
      "did not match C++ signature:\n",
      "    CanonicalRankAtoms(RDKit::ROMol mol, bool breakTies=True, bool includeChirality=True, bool includeIsotopes=True)\n",
      "[00:24:27] Explicit valence for atom # 5 N, 4, is greater than permitted\n",
      "Failed to featurize datapoint 645, None. Appending empty array\n",
      "Exception message: Python argument types in\n",
      "    rdkit.Chem.rdmolfiles.CanonicalRankAtoms(NoneType)\n",
      "did not match C++ signature:\n",
      "    CanonicalRankAtoms(RDKit::ROMol mol, bool breakTies=True, bool includeChirality=True, bool includeIsotopes=True)\n",
      "[00:24:27] Explicit valence for atom # 5 N, 4, is greater than permitted\n",
      "Failed to featurize datapoint 646, None. Appending empty array\n",
      "Exception message: Python argument types in\n",
      "    rdkit.Chem.rdmolfiles.CanonicalRankAtoms(NoneType)\n",
      "did not match C++ signature:\n",
      "    CanonicalRankAtoms(RDKit::ROMol mol, bool breakTies=True, bool includeChirality=True, bool includeIsotopes=True)\n",
      "[00:24:27] Explicit valence for atom # 5 N, 4, is greater than permitted\n",
      "Failed to featurize datapoint 647, None. Appending empty array\n",
      "Exception message: Python argument types in\n",
      "    rdkit.Chem.rdmolfiles.CanonicalRankAtoms(NoneType)\n",
      "did not match C++ signature:\n",
      "    CanonicalRankAtoms(RDKit::ROMol mol, bool breakTies=True, bool includeChirality=True, bool includeIsotopes=True)\n",
      "[00:24:27] Explicit valence for atom # 5 N, 4, is greater than permitted\n",
      "Failed to featurize datapoint 648, None. Appending empty array\n",
      "Exception message: Python argument types in\n",
      "    rdkit.Chem.rdmolfiles.CanonicalRankAtoms(NoneType)\n",
      "did not match C++ signature:\n",
      "    CanonicalRankAtoms(RDKit::ROMol mol, bool breakTies=True, bool includeChirality=True, bool includeIsotopes=True)\n",
      "[00:24:27] Explicit valence for atom # 5 N, 4, is greater than permitted\n",
      "Failed to featurize datapoint 649, None. Appending empty array\n",
      "Exception message: Python argument types in\n",
      "    rdkit.Chem.rdmolfiles.CanonicalRankAtoms(NoneType)\n",
      "did not match C++ signature:\n",
      "    CanonicalRankAtoms(RDKit::ROMol mol, bool breakTies=True, bool includeChirality=True, bool includeIsotopes=True)\n",
      "[00:24:27] WARNING: not removing hydrogen atom without neighbors\n",
      "[00:24:27] WARNING: not removing hydrogen atom without neighbors\n",
      "[00:24:27] Explicit valence for atom # 5 N, 4, is greater than permitted\n",
      "Failed to featurize datapoint 685, None. Appending empty array\n",
      "Exception message: Python argument types in\n",
      "    rdkit.Chem.rdmolfiles.CanonicalRankAtoms(NoneType)\n",
      "did not match C++ signature:\n",
      "    CanonicalRankAtoms(RDKit::ROMol mol, bool breakTies=True, bool includeChirality=True, bool includeIsotopes=True)\n",
      "[00:24:28] WARNING: not removing hydrogen atom without neighbors\n",
      "[00:24:29] WARNING: not removing hydrogen atom without neighbors\n",
      "[00:24:30] WARNING: not removing hydrogen atom without neighbors\n",
      "[00:24:30] WARNING: not removing hydrogen atom without neighbors\n",
      "[00:24:30] WARNING: not removing hydrogen atom without neighbors\n",
      "[00:24:31] WARNING: not removing hydrogen atom without neighbors\n",
      "[00:24:31] WARNING: not removing hydrogen atom without neighbors\n",
      "[00:24:32] WARNING: not removing hydrogen atom without neighbors\n",
      "[00:24:32] WARNING: not removing hydrogen atom without neighbors\n",
      "[00:24:32] WARNING: not removing hydrogen atom without neighbors\n",
      "[00:24:32] WARNING: not removing hydrogen atom without neighbors\n",
      "[00:24:32] WARNING: not removing hydrogen atom without neighbors\n",
      "[00:24:32] WARNING: not removing hydrogen atom without neighbors\n",
      "[00:24:32] WARNING: not removing hydrogen atom without neighbors\n",
      "[00:24:33] WARNING: not removing hydrogen atom without neighbors\n",
      "[00:24:33] WARNING: not removing hydrogen atom without neighbors\n",
      "[00:24:33] WARNING: not removing hydrogen atom without neighbors\n",
      "[00:24:34] WARNING: not removing hydrogen atom without neighbors\n",
      "[00:24:35] WARNING: not removing hydrogen atom without neighbors\n",
      "[00:24:35] WARNING: not removing hydrogen atom without neighbors\n",
      "[00:24:35] WARNING: not removing hydrogen atom without neighbors\n",
      "[00:24:35] WARNING: not removing hydrogen atom without neighbors\n",
      "[00:24:36] WARNING: not removing hydrogen atom without neighbors\n",
      "[00:24:36] WARNING: not removing hydrogen atom without neighbors\n",
      "[00:24:36] WARNING: not removing hydrogen atom without neighbors\n",
      "[00:24:37] WARNING: not removing hydrogen atom without neighbors\n",
      "[00:24:38] WARNING: not removing hydrogen atom without neighbors\n",
      "[00:24:42] WARNING: not removing hydrogen atom without neighbors\n",
      "[00:24:42] WARNING: not removing hydrogen atom without neighbors\n",
      "[00:24:42] WARNING: not removing hydrogen atom without neighbors\n",
      "[00:24:42] WARNING: not removing hydrogen atom without neighbors\n",
      "[00:24:42] WARNING: not removing hydrogen atom without neighbors\n",
      "[00:24:42] WARNING: not removing hydrogen atom without neighbors\n",
      "[00:24:42] WARNING: not removing hydrogen atom without neighbors\n",
      "[00:24:42] WARNING: not removing hydrogen atom without neighbors\n",
      "[00:24:42] WARNING: not removing hydrogen atom without neighbors\n",
      "[00:24:42] WARNING: not removing hydrogen atom without neighbors\n",
      "[00:24:42] WARNING: not removing hydrogen atom without neighbors\n",
      "[00:24:42] WARNING: not removing hydrogen atom without neighbors\n",
      "[00:24:42] WARNING: not removing hydrogen atom without neighbors\n",
      "[00:24:43] WARNING: not removing hydrogen atom without neighbors\n",
      "[00:24:43] WARNING: not removing hydrogen atom without neighbors\n",
      "[00:24:43] WARNING: not removing hydrogen atom without neighbors\n",
      "[00:24:43] WARNING: not removing hydrogen atom without neighbors\n",
      "[00:24:43] WARNING: not removing hydrogen atom without neighbors\n",
      "[00:24:43] WARNING: not removing hydrogen atom without neighbors\n",
      "[00:24:43] WARNING: not removing hydrogen atom without neighbors\n",
      "[00:24:43] WARNING: not removing hydrogen atom without neighbors\n",
      "[00:24:43] WARNING: not removing hydrogen atom without neighbors\n",
      "[00:24:43] WARNING: not removing hydrogen atom without neighbors\n",
      "[00:24:43] WARNING: not removing hydrogen atom without neighbors\n",
      "[00:24:43] WARNING: not removing hydrogen atom without neighbors\n",
      "[00:24:43] WARNING: not removing hydrogen atom without neighbors\n",
      "[00:24:43] WARNING: not removing hydrogen atom without neighbors\n",
      "[00:24:43] WARNING: not removing hydrogen atom without neighbors\n",
      "[00:24:43] WARNING: not removing hydrogen atom without neighbors\n",
      "[00:24:43] WARNING: not removing hydrogen atom without neighbors\n",
      "[00:24:43] WARNING: not removing hydrogen atom without neighbors\n",
      "[00:24:43] WARNING: not removing hydrogen atom without neighbors\n",
      "[00:24:43] WARNING: not removing hydrogen atom without neighbors\n",
      "[00:24:43] WARNING: not removing hydrogen atom without neighbors\n",
      "[00:24:43] WARNING: not removing hydrogen atom without neighbors\n",
      "[00:24:43] WARNING: not removing hydrogen atom without neighbors\n",
      "[00:24:43] WARNING: not removing hydrogen atom without neighbors\n",
      "[00:24:43] WARNING: not removing hydrogen atom without neighbors\n",
      "[00:24:43] WARNING: not removing hydrogen atom without neighbors\n",
      "[00:24:43] WARNING: not removing hydrogen atom without neighbors\n"
     ]
    }
   ],
   "source": [
    "bbbp_data = dc.molnet.load_bbbp(splitter='scaffold')"
   ]
  },
  {
   "cell_type": "code",
   "execution_count": 109,
   "metadata": {},
   "outputs": [
    {
     "data": {
      "text/plain": [
       "204"
      ]
     },
     "execution_count": 109,
     "metadata": {},
     "output_type": "execute_result"
    }
   ],
   "source": [
    "len(bbbp_data[1][1].ids)"
   ]
  },
  {
   "cell_type": "code",
   "execution_count": 110,
   "metadata": {},
   "outputs": [
    {
     "data": {
      "text/plain": [
       "array(['[H+].C2=C1C(OC(=NC1=CC=C2Cl)NCC)(C3=CC=CC=C3)C.[Cl-]',\n",
       "       'C1=CC=CC2=C1C(C3=C(N(C)C2=O)C=CC=C3)OCC',\n",
       "       'C1=C(Cl)C=CC3=C1C(C2=CC=CC=C2)SC(=N3)NCC',\n",
       "       'C1=CC=CC3=C1C4=C(C2=C(C=CC=C2)N3C)CCN(CC4)C',\n",
       "       'C3=C(OC2C1(NC(=O)C(O1)C)CCCC2)C=CC=C3Cl',\n",
       "       '[C@@H]1([C@@H]([C@H]2C=C[C@@H]1C2)C(N(CC)CC)=O)C(N(CC)CC)=O',\n",
       "       'C1=CC=CC=C1CN(C2CC2)C(OCC)=O',\n",
       "       'C3=C(N2CCN(CC(COC1=CC(=C(OC)C(=C1)OC)OC)O)CC2)C(=CC=C3)OC',\n",
       "       'C1=C(C2=C(C=C1)OCCO2)N3CCNCC3',\n",
       "       'C1=C(C2=C(C=C1)C=CO2)N5CCN(CC3=CC=C([NH]3)C4=CC=C(C=C4)F)CC5',\n",
       "       'C1=CC(=CC3=C1\\\\C(C2=CC=CC=C2N3)=C/CN(CC)CC)Cl',\n",
       "       'C2=C(N1N=C(C)CC1=O)C=CC=C2',\n",
       "       '[C@H]2(N(C1=CC=C(C(=C1)Cl)Cl)C(CC)=O)[C@@H](CCC2)N(C)C',\n",
       "       'C(N1C(CCC1)=O)C(NNC(CN2C(CCC2)=O)=O)=O',\n",
       "       'C1=C(C(F)(F)F)C=CC3=C1N(C2=C(C=CC=C2)S3)CCCN5CCC(C(C4=CC=C(F)C=C4)=O)CC5',\n",
       "       'C1=CC=C3C(=C1OC(C2=CC=CS2)CCNC)C=CC=C3',\n",
       "       'C1=CC=CC=C1C2(C(CN(C2=O)CC)CCN3CCOCC3)C4=CC=CC=C4',\n",
       "       'C4=C(CCNC(C12CC3CC(C1)CC(C2)C3)=O)C=CC(=C4O)O',\n",
       "       '[H+].C1=C(OC)C(=CC2=C1C(=O)C(C2)CC3CCN(CC3)CC4=CC=CC=C4)OC.[Cl-]',\n",
       "       '[C@]4([C@@]3([C@H]([C@H]2[C@@H]([C@@]1(C(=CC(=O)C=C1)CC2)C)[C@H](C3)O)CCC4)C)(OC(CCC)=O)C(C)=O',\n",
       "       'C1=CC=CC2=C1C3(C4=C(CC2N3)C=CC=C4)C',\n",
       "       'C1=C(N=C2[N]1C(=C(CC)C(=N2)OC)C)C(C3=CC=CC=C3)=O',\n",
       "       'O=C2N1C(NC(=O)C1)CC2',\n",
       "       'C1=CC=CC3=C1N(C2=C(C=CC=C2)S3)CC4(CN(C)CC4)C',\n",
       "       'C4=C(C(C1=CC=C(C=C1)F)CCCN3CCN(CCNC2=CC=CC=C2)CC3)C=CC(=C4)F',\n",
       "       '[C@]23([C@@H]1[C@@H](C(=CO[C@H]1OC(=O)CC(C)C)COC(=O)CC(C)C)C[C@@H]2OC(=O)C)OC3',\n",
       "       '[C@@H]1(NCCCC1)[C@@H]2OC(OC2)(C3=CC=CC=C3)C4=CC=CC=C4',\n",
       "       'C3=C(C1N2C(=NC1)NCC2)C=CC=C3', '[C@@H]3(C1=CC=CC=C1)CN2CCSC2=N3',\n",
       "       '[C@]4([C@@]3([C@H]([C@H]2[C@]([C@@]1(C(=CC(=O)C=C1)CC2)C)(F)[C@H](C3)O)C[C@H]4C)C)(OC(C5=CC=CO5)=O)C(COC(C)=O)=O',\n",
       "       'C2=C(CC1=CN=C[NH]1)C(=C(C=C2)C)C',\n",
       "       'C3=C(C1=C2C(=NC(=O)CN1O)C=CC(=C2)Cl)C=CC=C3',\n",
       "       'C1=CC(=CC=C1C(C2=NCCN2)(C3=NC=CC=C3)O)Cl',\n",
       "       'C1=CC(=CC=C1C23C(C(=O)NC2=O)C3)Cl',\n",
       "       'C4=C(C(C2C(C1=CC=NC=C1)C2)(C3=CC=CC=C3)O)C=CC=C4',\n",
       "       'C1=NC(=NC(=C1CN(C(/C)=C2\\\\CCOC(=O)S2)C=O)N)C',\n",
       "       '[C@]23(C1(C(C1)CC2)[C@H](O)C[C@@H]4[C@@H]3CC[C@]5([C@H]4CC[C@@H]5C(=O)C)C)C',\n",
       "       'C1=CC=CC=C1NC(OCC3(COC(NC2=CC=CC=C2)=O)CCCC3)=O',\n",
       "       'CC2(CC(OC(C1NC(=O)CC1)=O)CC(C2)C)C', 'C1=CC=NC=C1C2N(C(=O)CC2)C',\n",
       "       '[C@H]26[C@H]1[C@@]([C@](C(COC(C)=O)=O)(O)[C@@H](C1)C)(C[C@@H]([C@@H]2[C@@]3(C(=CC4=C(C3)C=N[N]4C5=CC=CC=C5)C(=C6)C)C)O)C',\n",
       "       '[C@H]37[C@H]2[C@@]([C@](C(COC(C1=CC(=CC=C1)[S](O)(=O)=O)=O)=O)(O)[C@@H](C2)C)(C[C@@H]([C@@H]3[C@@]4(C(=CC5=C(C4)C=N[N]5C6=CC=CC=C6)C(=C7)C)C)O)C',\n",
       "       'C1=C(O)C=CC4=C1C3(C(C(N(CC2CCC2)CC3)C4)(C)C)CC',\n",
       "       'C1=C(CC)SC2=C1C(=NCC(N2C)=O)C3=CC=CC=C3Cl',\n",
       "       '[C@H]24[C@H]1[C@@]([C@](C(CO)=O)(O)CC1)(C[C@@H]([C@@H]2[C@@]3(C(=CC(=O)C=C3)C(=C4)Cl)C)O)C',\n",
       "       'C1=CC=CC4=C1C(N(CCCN3CCN(C2=CC(=CC=C2)Cl)CC3)C(N4)=O)=O',\n",
       "       'C1=C(Cl)C=CC3=C1N(C2=CC=CC=C2)C(=O)N3CCCN(C)C',\n",
       "       'C1=C(C(=C(C=C1)Cl)NC2=NCCO2)Cl',\n",
       "       'C1=C(C(=CC(=C1Cl)N)OC)C(NC3CCN(CC2=CC=CC=C2)CC3)=O',\n",
       "       'C1=C(C#N)C=CC3=C1C4=C(C2=C(C=CC=C2)S3)CCN(CC4)C',\n",
       "       '[C@]34([C@H](C2[C@@](F)([C@@]1(C(=CC(=O)C=C1)[C@@H](F)C2)C)[C@@H](O)C3)C[C@H]5OC(O[C@@]45C(=O)COC(=O)C6CC6)(C)C)C',\n",
       "       'C1=C(Cl)C=CC(=C1C(C2=C(C=CC=C2)Cl)=O)N(C(CNC3CC3)=O)C',\n",
       "       'C1=C(C(=C(C=C1\\\\C=C\\\\C(N2CCCCCCC2)=O)OC)OC)OC',\n",
       "       '[C@@]1([C@H](C2CCC1CC2)NC(C)C)(C3=CC(=C(C=C3)Cl)Cl)O',\n",
       "       'C1=C(SC2=C1C(=NCC3=NN=C([N]23)C4CCCCC4)C5=CC=CC=C5Cl)Br',\n",
       "       '[C@@]45([C@@]3([C@H]([C@H]2[C@@H]([C@@]1(C(=CC(=O)C=C1)CC2)C)[C@H](C3)O)C[C@H]4O[C@H](O5)C6CCCCC6)C)C(COC(C(C)C)=O)=O',\n",
       "       'C1=C2C(=CC=C1)C(C=C(O2)C(O)=O)=O',\n",
       "       '[C@@H]2(OC1O[C@@H](O[C@@H]1[C@H]2O)C(Cl)(Cl)Cl)[C@H](O)CO',\n",
       "       'CC1=CC(=NNC1=O)C',\n",
       "       '[C@@H](/C=C/C1=C(N=C(C(=C1C2=CC=C(C=C2)F)COC)C(C)C)C(C)C)(C[C@H](CC(O)=O)O)O',\n",
       "       'OC1OC(COCCOC(O)C(Cl)(Cl)Cl)C(OC2OC(COCCOCCOC(O)C(Cl)(Cl)Cl)CC(OC(O)C(Cl)(Cl)Cl)C2O)C(OCCOCCOC(O)C(Cl)(Cl)Cl)C1O',\n",
       "       'C1=CC(=CC=C1C3CN(CC(N2CC(NCC2)=O)=O)C(C3)=O)Cl',\n",
       "       'C1=CC=CC2=C1CN(CC(N)=O)C(O2)=O',\n",
       "       'O=C(C4N(C12CC3CC(C1)CC(C2)C3)CC4)O',\n",
       "       'C1=C(Cl)C=CC2=C1C(N(CC(=O)N2C)C(N)=O)C3=CC=CC=C3',\n",
       "       'CC12C(C(CC1=O)CC2)(C)C',\n",
       "       '[C@]235[C@]([C@H](N(CC1CCC1)CC2)CC4=C3C=C(O)C=C4)(CCCC5)O',\n",
       "       'C1=CC(=CC2=C1NC(=O)OC2(C)C)Br',\n",
       "       'C1=C(C3=C(N=C1N2CCN(CC)CC2)CCCCCC3)C4=CC=C(F)C=C4',\n",
       "       'C1=NC(=NC(=C1CN(C(=C(SSC(=C(\\\\C)N(C=O)CC2=C(N)N=C(C)N=C2)/CCOC(=O)C3=CC=CC=C3)/CCOC(=O)C4=CC=CC=C4)\\\\C)C=O)N)C',\n",
       "       'C1=CC=CC2=C1C4=C([NH]2)CN3CCN(CC3C4)CCCC(C5=CC=C(C=C5)F)=O',\n",
       "       'S1[C@H]4N(CC1(C2CN3[C@H](S2)CC3=O)O)C(C4)=O',\n",
       "       'C(C2C1C(NC(N1)=O)CS2)CCCC(O)=O',\n",
       "       'O=C2CC1(CCCC1)CC(=O)N2CCNCC4COc3ccccc3O4',\n",
       "       '[C@]4([C@@]3([C@H]([C@H]2[C@]([C@@]1(C(=CC(=O)C=C1)CC2)C)(F)[C@H](C3)O)C[C@@H]4C)C)(OC(C5=CC=CC=C5)=O)C(CO)=O',\n",
       "       '[C@H](O)(/C=C/C1=C(C3=C(OC12CCCC2)C=CC=C3)C4=CC=C(F)C=C4)C[C@H](O)CC(OCC)=O',\n",
       "       '[Cl].C1=CC=CC2=C1[N](C=C2CCC3=CC=NC=C3)CC4=CC=CC=C4',\n",
       "       'C3=C(C(SC(/CCOC(C1=CC=CC=C1)=O)=C(N(CC2=C(N=C(N=C2)C)N)C=O)/C)=O)C=CC=C3',\n",
       "       'C4=C(C2=C1C3=C(SC1=NC(=O)CN2)CCCC3)C=CC=C4',\n",
       "       'C2=C(CN(C(=C(SC(=O)C1=CC=CC=C1)/CCO[P](=O)(O)O)/C)C=O)C(=NC(=N2)C)N',\n",
       "       'C(C1(CC(NC(C1)=O)=O)C)C',\n",
       "       'C1=CC=CC3=C1N=C([N]2C(=NC(=N2)C)C3)N4CCN(C)CC4',\n",
       "       'C1=CC=CC=C1CC2=NC3=C([N]2CCN(CCO)CC)C(N(C)C(N3C)=O)=O',\n",
       "       '[C@H]13[C@H](C[C@@H]1C2=CC=C(F)C=C2)CN(C3)CCN4C(=O)C5=C(NC4=O)C=CC=C5',\n",
       "       'CN(CCc2cc3cccc4CCc1ccccc1n2c34)Cc5ccccc5',\n",
       "       'C1=CC=CC2=C1[N]3C(=C2)CNCCC3', 'C1=CC=CC2=C1C3N(CC2)CCNC3',\n",
       "       'O=C1NCCN1C4CCN(CCC3COc2ccccc2O3)CC4',\n",
       "       'C3=C(C(O)(C1=CC=CC=C1)C2CCNCC2)C=CC=C3',\n",
       "       'C1=CC(=CC=C1C(CCCN2CC3N(CC2)CCC3)=O)F',\n",
       "       'C1=CC(=CC=C1[S](N2CC3CCC(C2)CC3)(=O)=O)N',\n",
       "       'C1=CC(=CC5=C1N(C4CCN(CC3OC2=C(C=CC=C2)OC3)CC4)C(N5)=O)Cl',\n",
       "       'C(O)C(O)C1OC(=C(O)C1=O)O',\n",
       "       'C1=C4C(=CC=C1OCCCCN3CCN(C2=CC=CC(=C2Cl)Cl)CC3)CCC(N4)=O',\n",
       "       'COc2cc1oc(=O)c(C)c(C)c1cc2OCCCN3CCN(CC3)c4ccccc4OC',\n",
       "       'C1=CC(=CC=C1C(N2C(CCC2)=O)=O)OC',\n",
       "       'C3=C(CCN1CCC(CC1)(C2=CC=CC=C2)C(OCC)=O)C=CC(=C3)N',\n",
       "       'C1=C(C=CC=C1N2C(C=CC=C2)=O)N',\n",
       "       'C3=C(C(C1=CC=C(C=C1)F)CCCN2CCN(C(NCC)=O)CC2)C=CC(=C3)F',\n",
       "       '[C@H]4(CC3C2=C1C(=C[N](C1=CC=C2)C(C)C)CC3N(C4)C)C(NC5CCCCC5)=O',\n",
       "       '[C@@]45([C@@]3([C@H]([C@H]2[C@]([C@@]1(C(=CC(=O)C=C1)CC2)C)(F)[C@H](C3)O)C[C@H]4OC6(O5)CCCC6)C)C(COC(C)=O)=O',\n",
       "       '[C@H]24C([C@@]1(O[C@@](O[C@@H]1C2)(C3=CC=CC=C3)C)C(=O)CO)(C[C@H](O)[C@@]5(F)C4CCC6=CC(=O)C=CC56C)C',\n",
       "       'C1=CC=C3C2=C1C(N(CC(O)=O)C(C2=CC=C3)=O)=O',\n",
       "       'C1=C([N](C(=C1C=O)C)CCNC(C)=O)C',\n",
       "       'C1=CC=CC3=C1C2(C(NC(=O)CC2)=O)CCC3=O',\n",
       "       '[H+].C4=C3OCC(N(CCCCN1C(=O)CC2(CC1=O)CCCC2)CCC)CC3=C(OC)C=C4.[Cl-]',\n",
       "       'C1=C3C2=C(C=C1O)C=CC=C2CC(C3)N(CCC)CCC',\n",
       "       'C1=NC(=NC=C1)N5CCN(CCNC(C23CC4CC(C2)CC(C3)C4)=O)CC5',\n",
       "       'C1=CC(=CC=C1OCC(OCCNC23CC4CC(C2)CC(C3)C4)=O)Cl',\n",
       "       'C2=C(CC(C(NCC(OCC1=CC=CC=C1)=O)=O)CSC(C)=O)C=CC=C2',\n",
       "       'C2=C(CN(C(=C(SC(=O)C1=CC=CO1)\\\\CCOC(=O)COC(=O)C)/C)C=O)C(=NC(=N2)C)N',\n",
       "       '[C@@]3(C1=CC=CS1)(N2CCCCC2)[C@H](CCCC3)C',\n",
       "       '[Cl-].COc1cccc2C(=O)c3c(O)c4C[C@](O)(C[C@H](O[C@H]5C[C@H](N)[C@H](O)[C@H](C)O5)c4c(O)c3C(=O)c12)/C(C)=N/NC(=O)c6ccccc6.[H+]',\n",
       "       'Oc1ccc(cc1)/C=C([N+]#[C-])/C(=C/c2ccc(O)cc2)[N+]#[C-]',\n",
       "       'CC(C)C1OC(=O)C2=CCCN2C(=O)c3coc(CC(=O)CC(O)\\\\C=C(C)/C=C\\\\CNC(=O)\\\\C=C/C1C)n3',\n",
       "       'CCCC[C@@H]1CC(=O)[C@]2(O)O[C@@H]3[C@@H](NC)[C@@H](O)[C@@H](NC)[C@H](O)[C@H]3O[C@@H]2O1',\n",
       "       'CC(C)C(=O)OCc1cccc(OC(=O)[C@@H]2N3[C@H](SC2(C)C)[C@H](NC(=O)Cc4ccccc4)C3=O)c1',\n",
       "       'CC1(C)SC2C(NC(=O)CSc3ccccc3)C(=O)N2C1C(O)=O',\n",
       "       'CCCCCCCCCC(=O)N[C@@H]1[C@@H](O)[C@H](O)[C@@H](CO)O[C@H]1Oc2c3Oc4ccc(C[C@H]5NC(=O)[C@H](N)c6ccc(O)c(Oc7cc(O)cc(c7)[C@H](NC5=O)C(=O)N[C@H]8C(=O)N[C@H]9C(=O)N[C@@H]([C@H](O[C@@H]%10O[C@H](CO)[C@@H](O)[C@H](O)[C@H]%10NC(C)=O)c%11ccc(Oc2cc8c3)c(Cl)c%11)C(=O)N[C@@H](C(O)=O)c%12cc(O)cc(O[C@H]%13O[C@H](CO)[C@@H](O)[C@H](O)[C@@H]%13O)c%12c%14cc9ccc%14O)c6)cc4Cl',\n",
       "       'C[C@]1(Cn2ccnn2)[C@@H](N3[C@@H](CC3=O)[S]1(=O)=O)C(O)=O',\n",
       "       'CC1(C)S[C@@H]2[C@H](NC(=O)[C@H](N)c3ccccc3)C(=O)N2[C@H]1C(=O)OC4OC(=O)c5ccccc45',\n",
       "       'CO[C@@H]1C[C@@H](CC[C@H]1O)/C=C(C)/[C@H]2OC(=O)[C@@H]3CCCCN3C(=O)C(=O)[C@]4(O)O[C@H]([C@H](C[C@@H](C)CC(=C/[C@@H](CC=C)C(=O)C[C@H](O)[C@H]2C)/C)OC)[C@H](C[C@H]4C)OC',\n",
       "       'CC1(C)S[C@@H]2[C@H](NC(=O)[C@H](N)c3ccccc3)C(=O)N2[C@H]1C(O)=O.CC4(C)[C@@H](N5[C@@H](CC5=O)[S]4(=O)=O)C(O)=O',\n",
       "       'C[C@@H](O)[C@@H]1[C@H]2SC(=C(N2C1=O)C(O)=O)SC3CC[S](=O)C3',\n",
       "       'COC1C(O)CC(=O)OC(C)C\\\\C=C\\\\C=C\\\\C(OC2CCC(C(C)O2)N(C)C)C(C)CC(CC=O)C1OC3OC(C)C(OC4CC(C)(O)C(O)C(C)O4)C(C3O)N(C)C',\n",
       "       'CC1C2CC(OC(C)=O)\\\\C=C\\\\C(=C\\\\CC(O)/C=C/C(=C/C(NC(=O)C(C)=O)C(C)(C(=O)O2)C1=O)C)C',\n",
       "       'COC1CCCC2C3C(C(C)O)C(=O)N3C(=C12)C([O-])=O',\n",
       "       'CC1(C)S[C@@H]2[C@H](NC(=O)[C@H](NC(=O)Cc3ccc(cc3)C4=NCCCN4)c5ccccc5)C(=O)N2[C@H]1C(O)=O',\n",
       "       'CC[C@@]1(O)C[C@H](O[C@H]2C[C@@H]([C@H](O[C@H]3C[C@@H]4O[C@H]5CC(=O)[C@H](C)O[C@H]5O[C@@H]4[C@H](C)O3)[C@H](C)O2)N(C)C)c6c(O)c7C(=O)c8c(O)cccc8C(=O)c7c(O)c6[C@H]1O[C@H]9C[C@@H]([C@H](O)[C@H](C)O9)N(C)C',\n",
       "       '[Na+].C[C@@H](O)[C@@H]1[C@H]2SC(=C(N2C1=O)C([O-])=O)COC(N)=O',\n",
       "       'CO[C@H]1/C=C/O[C@@]2(C)Oc3c(C)c(O)c4c(O)c(NC(=O)C(=C\\\\C=C\\\\[C@H](C)[C@H](O)[C@@H](C)[C@@H](O)[C@@H](C)[C@H](OC(C)=O)[C@@H]1C)/C)c5n6ccc(C)cc6nc5c4c3C2=O',\n",
       "       'CO[C@H]1\\\\C=C\\\\O[C@@]2(C)Oc3c(C)c(O)c4C(=C(NC(=O)C(=C/C=C/[C@H](C)[C@H](O)[C@@H](C)[C@@H](O)[C@@H](C)[C@H](OC(C)=O)[C@@H]1C)\\\\C)C(=C/NN5CCN(CC5)C6CCCC6)\\\\C(=O)c4c3C2=O)O',\n",
       "       'COC1C=COC5(C)Oc4c(C)c(O)c3c(O)c(NC(=O)C(=CC=CC(C)C(O)C(C)C(O)C(C)C(OC(C)=O)C1C)C)c(C=NN2CCN(C)CC2)c(O)c3c4C5=O',\n",
       "       'CCN(CC)c1sc2c3NC(=O)C(=C\\\\C=C\\\\[C@H](C)[C@H](O)[C@@H](C)[C@@H](O)[C@@H](C)[C@H](OC(C)=O)[C@H](C)[C@@H](OC)/C=C/O[C@@]4(C)Oc5c(C)c(O)c(c3O)c(c2n1)c5C4=O)/C',\n",
       "       'CO[C@H]1/C=C/O[C@@]2(C)Oc3c(C)c(O)c4C(=O)C(=C5NC6(CCN(CC6)CC(C)C)N=C5c4c3C2=O)NC(=O)C(=C\\\\C=C\\\\[C@H](C)[C@H](O)[C@@H](C)[C@@H](O)[C@@H](C)[C@H](OC(C)=O)[C@@H]1C)/C',\n",
       "       'CC1(C)S[C@@H]2[C@H](NC(=O)c3nc4ccccc4nc3C(O)=O)C(=O)N2[C@H]1C(O)=O',\n",
       "       'CCCNCC(O)COc1ccccc1C(=O)CCc2ccccc2',\n",
       "       'Cc1cnn(c1C(=O)N[C@H]2[C@H]3SC(C)(C)[C@@H](N3C2=O)C(O)=O)c4c(Cl)cccc4Cl',\n",
       "       'CC1(C)S[C@@H]2[C@H](NC(=O)[C@H](NC(=O)NC3=CN=C(NC3=O)Nc4ccc(cc4)[S](N)(=O)=O)c5ccc(O)cc5)C(=O)N2[C@H]1C(O)=O',\n",
       "       '[Na+].CC1(C)S[C@@H]2[C@H](NC(=O)[C@H](NC(=O)C3=CC=C(NC3=O)c4ccc(cc4)[S](=O)(=O)N(CCO)CCO)c5ccc(O)cc5)C(=O)N2[C@H]1C([O-])=O',\n",
       "       'CC1(C)SC2C(N([C@H](C(=O)NC(=O)CN)c3ccccc3)C(=N)c4ccncc4)C(=O)N2C1C(O)=O',\n",
       "       'COc1cccc2C(=O)c3c(O)c4C[C@](O)(C[C@H](O[C@H]5C[C@H](N)[C@H](O[C@H]6CCCCO6)[C@H](C)O5)c4c(O)c3C(=O)c12)C(=O)CO',\n",
       "       'CN(C)[C@H]1[C@@H]2C[C@H]3C(=C(O)c4c(O)cccc4[C@@]3(C)O)C(=O)[C@]2(O)C(=O)\\\\C(=C(/O)NCNC(C(=O)NC5C6SC(C)(C)C(N6C5=O)C(O)=O)c7ccccc7)C1=O',\n",
       "       'CN(C)[C@H]1[C@@H]2C[C@H]3C(=C(O)c4c(O)cccc4[C@@]3(C)O)C(=O)[C@]2(O)C(=O)\\\\C(=C(/O)NCN5CCCC(C5)C(O)=O)C1=O',\n",
       "       'CC(=O)O[C@H]1C(=O)[C@]2(C)[C@@H](O)C[C@H]3OC[C@@]3(OC(C)=O)C2[C@H](OC(=O)c4ccccc4)[C@]5(O)C[C@H](OC(=O)[C@H](O)[C@@H](NC(=O)c6ccccc6)c7ccccc7)C(=C1C5(C)C)C',\n",
       "       'CC1(C)NC(C(=O)[NH+]1[C@H]2[C@H]3SC(C)(C)[C@@H](N3C2=O)C(O)=O)c4ccc(O)cc4',\n",
       "       'CO[C@@H]1[C@@H](OC(N)=O)[C@@H](O)[C@H](Oc2ccc3C(=O)C(=C(O)Oc3c2C)NC(=O)c4ccc(O)c(CC=C(C)C)c4)OC1(C)C',\n",
       "       'COC(=O)C1=C(C)NC(=C(C1c2cccc(c2)[N+]([O-])=O)C(=O)OCCN(C)Cc3ccccc3)C',\n",
       "       'CO[C@]1(NC(=O)C(C(O)=O)c2ccc(O)cc2)[C@H]3OCC(=C(N3C1=O)C(O)=O)CSc4nnnn4C',\n",
       "       'CO[C@@]12[C@H](COC(N)=O)C3=C(N1C[C@@H]4N[C@H]24)C(=O)C(=C(N)C3=O)C',\n",
       "       'COCC(=O)O[C@]1(CCN(C)CCCc2[nH]c3ccccc3n2)CCc4cc(F)ccc4[C@@H]1C(C)C',\n",
       "       'CC1(C)S[C@@H]2[C@H](NC(=O)[C@H](NC(=O)N3CCN(C3=O)[S](C)(=O)=O)c4ccccc4)C(=O)N2[C@H]1C(O)=O',\n",
       "       'COc1cccc(OC)c1C(=O)N[C@H]2[C@H]3SC(C)(C)[C@@H](N3C2=O)C(O)=O',\n",
       "       'CCCCc1nc(Cl)c(CO)n1Cc2ccc(cc2)c3ccccc3c4n[nH]nn4',\n",
       "       'O.N[C@@H](C(=O)NC1C2CCC(=C(N2C1=O)C(O)=O)Cl)c3ccccc3',\n",
       "       'CC1=C(COC(=O)[C@@H]2N3[C@H](SC2(C)C)[C@H](NC(=O)[C@H](N)c4ccccc4)C3=O)OC(=O)O1',\n",
       "       'O.C[C@H](O)[C@@H]1[C@H]2CC(=C(N2C1=O)C(O)=O)SCCN=CN',\n",
       "       'CC(C)CC1C(=O)NC(C(=O)N2CCCC2C(=O)NC(C(=O)NC(C(=O)NC(C(=O)NC(C(=O)N3CCCC3C(=O)NC(C(=O)NC(C(=O)N1)CCCN)C(C)C)CC4=CC=CC=C4)CC(C)C)CCCN)C(C)C)CC5=CC=CC=C5',\n",
       "       'C[C@@H]1[C@H](O)CC[C@@]2(C)[C@H]1CC[C@@]3(C)[C@H]2[C@H](O)C[C@H]4\\\\C([C@H](C[C@]34C)OC(C)=O)=C(/CCC=C(C)C)C(O)=O',\n",
       "       'CC(C)CC(OC(=O)c1occc1)C(=O)N[C@H]2[C@H]3SC(C)(C)[C@@H](N3C2=O)C(O)=O',\n",
       "       'CC1(C)S[C@@H]2[C@H](NC(=O)[C@@H](N=Cc3occc3)c4ccc(O)cc4)C(=O)N2[C@H]1C(O)=O',\n",
       "       'C[C@@H](O)[C@@H]1[C@H]2SC(=C(N2C1=O)C(O)=O)[C@H]3CCCO3',\n",
       "       '[Na].CO[C@]1(NC(=O)CSC(F)(F)F)[C@H]2OCC(=C(N2C1=O)C(O)=O)CSc3nnnn3CCO',\n",
       "       'CC1(C)S[C@@H]2[C@H](NC(=O)[C@H](NC(=O)C(C)(C)Oc3ccc(Cl)cc3)c4ccccc4)C(=O)N2[C@H]1C(O)=O',\n",
       "       'CC1(C)S[C@@H]2[C@H](NC(=O)C(Oc3ccccc3)c4ccccc4)C(=O)N2[C@H]1C(O)=O',\n",
       "       'CN(C)[C@H]1[C@@H]2C[C@H]3C(=C(O)c4c(O)cccc4[C@@]3(C)O)C(=O)[C@]2(O)C(=O)\\\\C(=C(/O)NCN(C)CCN(C)CNC(/O)=C/5C(=O)[C@H]([C@@H]6C[C@H]7C(=C(O)c8c(O)cccc8[C@@]7(C)O)C(=O)[C@]6(O)C5=O)N(C)C)C1=O',\n",
       "       'CCC(C)[C@H]1O[C@]2(CC[C@@H]1C)CC3C[C@@H](C\\\\C=C(C)\\\\[C@@H](O[C@H]4C[C@H](OC)[C@@H](OC5C[C@H](OC)[C@@H](O)[C@H](C)O5)[C@H](C)O4)[C@@H](C)/C=C/C=C/6CO[C@@H]7[C@H](O)C(=C[C@@H](C(=O)O3)[C@]67O)C)O2.CO[C@H]8CC(O[C@@H](C)[C@@H]8O)O[C@H]9[C@H](C)O[C@H](C[C@@H]9OC)O[C@H]/%10[C@@H](C)/C=C/C=C/%11CO[C@@H]%12[C@H](O)C(=C[C@@H](C(=O)OC%13C[C@@H](C\\\\C=C%10C)O[C@@]%14(CC[C@H](C)[C@H](O%14)C(C)C)C%13)[C@]%11%12O)C',\n",
       "       'CC1(C)S[C@@H]2[C@H](NC(=O)[C@H](N)C3=CCC=CC3)C(=O)N2[C@H]1C(O)=O',\n",
       "       '[Cl].CC[C@H]1CN2CCc3cc(OC)c(OC)cc3[C@@H]2C[C@@H]1C[C@H]4NCCc5cc(OC)c(OC)cc45',\n",
       "       'CCC(C(=O)NC\\\\C=C\\\\C=C(/C)C(OC)C(C)C1OC(\\\\C=C\\\\C=C\\\\C=C(/C)C(=O)C2=C(O)N(C)C=CC2=O)C(O)C1O)C3(O)OC(\\\\C=C\\\\C=C\\\\C)C(C)(C)C(OC4OC(C)C(OC5OC(C)C(OC)C(O)C5OC)C(OC)C4O)C3O',\n",
       "       'CC(=O)O[C@@]12CO[C@@H]1C[C@H](O)[C@]3(C)[C@@H]2[C@H](OC(=O)c4ccccc4)[C@]5(O)C[C@H](OC(=O)[C@H](O)[C@@H](NC(=O)OC(C)(C)C)c6ccccc6)C(=C([C@@H](O)C3=O)C5(C)C)C',\n",
       "       'CC[C@H]1OC(=O)[C@H](C)[C@@H](O[C@H]2C[C@@](C)(OC)[C@@H](O)[C@H](C)O2)[C@H](C)[C@@H](O[C@@H]3O[C@H](C)C[C@@H]([C@H]3O)N(C)C)[C@](C)(O)C[C@@H](C)[C@@H]4N[C@@H](COCCOC)O[C@H]([C@H]4C)[C@]1(C)O',\n",
       "       'OCCN(CCO)c1nc(N2CCCCC2)c3nc(nc(N4CCCCC4)c3n1)N(CCO)CCO',\n",
       "       'COc1ccc(cc1O)C2=CC(=O)c3c(O)cc(O[C@@H]4O[C@H](CO[C@@H]5O[C@@H](C)[C@H](O)[C@@H](O)[C@H]5O)[C@@H](O)[C@H](O)[C@H]4O)cc3O2',\n",
       "       'CC(C)C1NC(=O)C(NC(=O)c2ccc(C)c3OC4=C(C)C(=O)C(=C(C(=O)NC5C(C)OC(=O)C(C(C)C)N(C)C(=O)CN(C)C(=O)C6CCCN6C(=O)C(NC5=O)C(C)C)C4=Nc23)N)C(C)OC(=O)C(C(C)C)N(C)C(=O)CN(C)C(=O)C7CCCN7C1=O',\n",
       "       'CCC1C(=O)N(CC(=O)N(C(C(=O)NC(C(=O)N(C(C(=O)NC(C(=O)NC(C(=O)N(C(C(=O)N(C(C(=O)N(C(C(=O)N(C(C(=O)N1)C(C(C)CC=CC)O)C)C(C)C)C)CC(C)C)C)CC(C)C)C)C)C)CC(C)C)C)C(C)C)CC(C)C)C)C',\n",
       "       'CC1(C)S[C@@H]2[C@H](NC(=O)C3(N)CCCCC3)C(=O)N2[C@H]1C(O)=O',\n",
       "       'CC(=O)C1=C(O)[C@]2(O)[C@@H](Cc3c(C)c4ccc(C)c(O)c4c(O)c3C2=O)[C@@H](N)C1=O',\n",
       "       'CO/N=C(C(=O)N[C@H]1[C@H]2SCC(=C(N2C1=O)C(O)=O)CSc3snnc3)/c4csc(N)n4',\n",
       "       'CO/N=C(C(=O)N[C@H]1[C@@H]2N(C1=O)C(=C(COC(C)=O)C[S]2=O)C(O)=O)/c3csc(N)n3',\n",
       "       'CO/N=C(C(=O)N[C@H]1[C@H]2SCC(=C(N2C1=O)C(O)=O)\\\\C=C\\\\SC3=NNC(=O)C(=O)N3CC=O)/c4csc(N)n4',\n",
       "       'CO/N=C(C(=O)N[C@H]1[C@H]2SCC(=C(N2C1=O)C(O)=O)CSC(=O)c3occc3)/c4csc(N)n4',\n",
       "       'CO/N=C(C(=O)N[C@H]1[C@H]2SCC(=C(N2C1=O)C(O)=O)Cn3nnc(C)n3)/c4csc(N)n4',\n",
       "       'COC1=C(N3C(SC1)C(NC(=O)C(N)C2C=CCC=C2)C3=O)C(O)=O',\n",
       "       'CC1=C(N2[C@H](SC1)[C@H](NC(=O)Cc3ccc(cc3)C4=NCCCN4)C2=O)C(O)=O',\n",
       "       'Cn1nnnc1SCC2=C(N3[C@H](SC2)C(NC(=O)[C@H](NC(=O)C4=CNC(=CC4=O)C)c5ccc(O)cc5)C3=O)C(O)=O',\n",
       "       'CC(=O)OCC1=C(N2[C@H](SC1)[C@H](NC(=O)c3c(C)onc3c4ccccc4Cl)C2=O)C(O)=O',\n",
       "       'CN(C)CCn1nnnc1SCC2=C(N3[C@H](SC2)[C@H](NC(=O)Cc4csc(N)n4)C3=O)C(O)=O',\n",
       "       'CO[C@]1(NC(=O)C2S\\\\C(S2)=C(\\\\C(N)=O)C(O)=O)[C@H]3SCC(=C(N3C1=O)C(O)=O)CSc4nnnn4C',\n",
       "       'CO\\\\N=C(C(=O)N[C@H]1[C@H]2SCC(=C(N2C1=O)C(O)=O)CSc3sc(CC(O)=O)c(C)n3)/c4csc(N)n4',\n",
       "       'CO/N=C(C(=O)N[C@H]1[C@H]2SCC(=C(N2C1=O)C(O)=O)CSc3nnnn3C)/c4csc(N)n4',\n",
       "       'OC(=O)C1=C(CS[C@@H]2[C@H](NC(=O)Cc3sccc3)C(=O)N12)CSc4[nH]ncn4',\n",
       "       'CO\\\\N=C(C(=O)NC1[C@H]2SCC(=C(N2C1=O)C(O)=O)\\\\C=C/c3scnc3C)\\\\c4csc(N)n4',\n",
       "       'CC(N)C(=O)OC(C(=O)NC1C2SCC(=C(N2C1=O)C(=O)OCC3=C(C)OC(=O)O3)CSc4sc(C)nn4)c5ccccc5',\n",
       "       'Cc1sc(SCC2=C(N3[C@H](SC2)[C@H](NC(=O)CN4C=C(Cl)C(=O)C(=C4)Cl)C3=O)C(O)=O)nn1',\n",
       "       'NC(C(=O)N[C@H]1[C@H]2SCC(=C(N2C1=O)C(O)=O)CSc3cn[nH]n3)c4ccc(O)cc4',\n",
       "       'CC1(C)S[C@@H]2[C@H](NC(=O)C(C(=O)Oc3ccc4CCCc4c3)c5ccccc5)C(=O)N2[C@H]1C(O)=O',\n",
       "       'CC1(C)S[C@@H]2[C@H](NC(=O)C(C(=O)Oc3ccccc3)c4ccccc4)C(=O)N2[C@H]1C(O)=O',\n",
       "       'CC(C)COCC(CN(Cc1ccccc1)c2ccccc2)N3CCCC3',\n",
       "       'CN[C@H]1[C@@H](O)[C@H]2O[C@@H](O[C@@H]3[C@@H](N)C[C@@H](N)[C@H](O)[C@H]3O)[C@H](N)C[C@@H]2O[C@@H]1O[C@H]4O[C@H](CO)[C@@H](N)[C@H](O)[C@H]4O',\n",
       "       'CC1(C)S[C@@H]2C(NC(=O)[C@H](NC(=O)C3=CNc4cccnc4C3=O)c5ccccc5)C(=O)N2[C@H]1C(O)=O',\n",
       "       'CC1(C)S[C@@H]2[C@H](NC(=O)C34C[C@H]5C[C@H](CC(N)(C5)C3)C4)C(=O)N2[C@H]1C(O)=O',\n",
       "       'COc1cccc2C(=O)c3c(O)c4CC(O)(CC(O)c4c(O)c3C(=O)c12)C(=O)CO',\n",
       "       'CC[C@@]1(O)C[C@H](OC2CC(C(OC3CC(O)C(OC4CCC(=O)C(C)O4)C(C)O3)C(C)O2)N(C)C)c5c(O)c6C(=O)c7c(O)cccc7C(=O)c6cc5[C@H]1C(=O)OC'],\n",
       "      dtype=object)"
      ]
     },
     "execution_count": 110,
     "metadata": {},
     "output_type": "execute_result"
    }
   ],
   "source": [
    "bbbp_data[1][1].ids"
   ]
  },
  {
   "cell_type": "code",
   "execution_count": 225,
   "metadata": {},
   "outputs": [
    {
     "data": {
      "text/plain": [
       "array([1, 1, 0, ..., 0, 0, 1])"
      ]
     },
     "execution_count": 225,
     "metadata": {},
     "output_type": "execute_result"
    }
   ],
   "source": [
    "smiles = 'CN1C=NC2=C1C(=O)N(C(=O)N2C)C'\n",
    "mol = Chem.MolFromSmiles(smiles)\n",
    "fingerPrint = RDKFingerprint(mol)\n",
    "np.array(fingerPrint)"
   ]
  },
  {
   "cell_type": "code",
   "execution_count": 226,
   "metadata": {},
   "outputs": [
    {
     "data": {
      "image/png": "[encoded data removed]",
      "text/plain": [
       "<rdkit.Chem.rdchem.Mol at 0x7f7a5654dbc0>"
      ]
     },
     "metadata": {},
     "output_type": "display_data"
    },
    {
     "data": {
      "image/png": "[encoded data removed]",
      "text/plain": [
       "<rdkit.Chem.rdchem.Mol at 0x7f7a5654d670>"
      ]
     },
     "metadata": {},
     "output_type": "display_data"
    },
    {
     "data": {
      "image/png": "[encoded data removed]",
      "text/plain": [
       "<rdkit.Chem.rdchem.Mol at 0x7f7c0faca6c0>"
      ]
     },
     "metadata": {},
     "output_type": "display_data"
    },
    {
     "data": {
      "image/png": "[encoded data removed]",
      "text/plain": [
       "<rdkit.Chem.rdchem.Mol at 0x7f7c0faca760>"
      ]
     },
     "metadata": {},
     "output_type": "display_data"
    },
    {
     "data": {
      "image/png": "[encoded data removed]",
      "text/plain": [
       "<rdkit.Chem.rdchem.Mol at 0x7f7c0facab20>"
      ]
     },
     "metadata": {},
     "output_type": "display_data"
    },
    {
     "data": {
      "image/png": "[encoded data removed]",
      "text/plain": [
       "<rdkit.Chem.rdchem.Mol at 0x7f7c0facac10>"
      ]
     },
     "metadata": {},
     "output_type": "display_data"
    },
    {
     "data": {
      "image/png": "[encoded data removed]",
      "text/plain": [
       "<rdkit.Chem.rdchem.Mol at 0x7f7c0facabc0>"
      ]
     },
     "metadata": {},
     "output_type": "display_data"
    },
    {
     "data": {
      "image/png": "[encoded data removed]",
      "text/plain": [
       "<rdkit.Chem.rdchem.Mol at 0x7f7c0facacb0>"
      ]
     },
     "metadata": {},
     "output_type": "display_data"
    },
    {
     "data": {
      "image/png": "[encoded data removed]",
      "text/plain": [
       "<rdkit.Chem.rdchem.Mol at 0x7f7c0facad00>"
      ]
     },
     "metadata": {},
     "output_type": "display_data"
    },
    {
     "data": {
      "image/png": "[encoded data removed]",
      "text/plain": [
       "<rdkit.Chem.rdchem.Mol at 0x7f7c0facac60>"
      ]
     },
     "metadata": {},
     "output_type": "display_data"
    }
   ],
   "source": [
    "smile = bbbp_data[1][1].ids\n",
    "fig_prints = []\n",
    "for i in range(len(smile)):\n",
    "    fig_prints.append(Chem.MolFromSmiles(smile[i]))\n",
    "for i in range(10):\n",
    "    display(fig_prints[i])"
   ]
  },
  {
   "cell_type": "code",
   "execution_count": 112,
   "metadata": {},
   "outputs": [
    {
     "name": "stdout",
     "output_type": "stream",
     "text": [
      "1631 1631\n"
     ]
    }
   ],
   "source": [
    "fp_array = bbbp_data[1][0].X\n",
    "y = bbbp_data[1][0].y\n",
    "print(len(fp_array), len(y))"
   ]
  },
  {
   "cell_type": "code",
   "execution_count": 113,
   "metadata": {},
   "outputs": [
    {
     "name": "stdout",
     "output_type": "stream",
     "text": [
      "204 204\n"
     ]
    }
   ],
   "source": [
    "fp_test_array = bbbp_data[1][1].X\n",
    "y_test = bbbp_data[1][1].y\n",
    "print(len(fp_test_array), len(y_test))"
   ]
  },
  {
   "cell_type": "code",
   "execution_count": 114,
   "metadata": {},
   "outputs": [
    {
     "data": {
      "image/png": "[encoded data removed]",
      "text/plain": [
       "<Figure size 432x288 with 1 Axes>"
      ]
     },
     "metadata": {
      "image/png": {
       "height": 275,
       "width": 394
      }
     },
     "output_type": "display_data"
    }
   ],
   "source": [
    "import seaborn as sns\n",
    "sns.countplot(pd.DataFrame(y_test, columns = ['p_np'])['p_np'])\n",
    "plt.show()"
   ]
  },
  {
   "cell_type": "markdown",
   "metadata": {},
   "source": [
    "We can see from above that the count of p_np for values of 0 and 1 are close to each other, so the classes are balanced"
   ]
  },
  {
   "cell_type": "markdown",
   "metadata": {},
   "source": [
    "# Lets start splitting the data by k-fold cross validation "
   ]
  },
  {
   "cell_type": "code",
   "execution_count": 120,
   "metadata": {},
   "outputs": [],
   "source": [
    "# Use this shuffled data for k-fold cv\n",
    "from sklearn.metrics import average_precision_score\n",
    "\n",
    "def k_fold_generator(X, y, n_folds, model, model_name): # n_folds can be 5 folds or any value\n",
    "\n",
    "  # Shuffle data first\n",
    "    X, y =  shuffle(X, y)\n",
    "  \n",
    "    fold_inx_start = 0\n",
    "    fold_inx_end = int(len(X)/n_folds)\n",
    "\n",
    "    train_scores = []\n",
    "    valid_scores = []\n",
    "\n",
    "    for i in range(n_folds):\n",
    "        train_x_fold =  np.concatenate( (X[:fold_inx_start, :], X[fold_inx_end:, :]), axis = 0 )\n",
    "        train_y_fold = np.concatenate( (y[:fold_inx_start, :], y[fold_inx_end:, :]), axis = 0 )\n",
    "\n",
    "        valid_x_fold = X[fold_inx_start:fold_inx_end, :]\n",
    "        valid_y_fold = y[fold_inx_start:fold_inx_end, :]\n",
    "\n",
    "        model.fit(train_x_fold, train_y_fold)\n",
    "\n",
    "        train_preds = model.predict(train_x_fold)\n",
    "        valid_preds = model.predict(valid_x_fold)\n",
    "\n",
    "\n",
    "        train_scores.append( average_precision_score(train_y_fold, train_preds) )\n",
    "        valid_scores.append( average_precision_score(valid_y_fold, valid_preds) )\n",
    "\n",
    "    \n",
    "        fold_inx_start = fold_inx_end\n",
    "        fold_inx_end = fold_inx_start + int(len(X)/n_folds)\n",
    "    \n",
    "\n",
    "    return train_scores, valid_scores, model"
   ]
  },
  {
   "cell_type": "markdown",
   "metadata": {},
   "source": [
    "# LogisticRegression Model"
   ]
  },
  {
   "cell_type": "code",
   "execution_count": 121,
   "metadata": {},
   "outputs": [
    {
     "name": "stdout",
     "output_type": "stream",
     "text": [
      "Mean training scores 0.9711439596395174 ,  Mean validation scores 0.9243050261161452\n"
     ]
    }
   ],
   "source": [
    "from sklearn.utils import shuffle\n",
    "from sklearn.linear_model import LogisticRegression\n",
    "lr = LogisticRegression(penalty = \"l2\", C = 0.5)\n",
    "train_scores, valid_scores, lr = k_fold_generator(fp_array, y, 5, lr, 'lr')\n",
    "model_scores = pd.DataFrame(columns = ['Model', 'Validation fold 1 Score', 'Validation fold 2 Score', 'Validation fold 3 Score', 'Validation fold 4 Score', 'Validation fold 5 Score', 'Mean AUPR Score'])\n",
    "\n",
    "print('Mean training scores', np.mean(train_scores), ',  Mean validation scores', np.mean(valid_scores))"
   ]
  },
  {
   "cell_type": "code",
   "execution_count": 122,
   "metadata": {},
   "outputs": [],
   "source": [
    "# Add validation fold values to table\n",
    "model_scores = model_scores.append({'Model': 'Logistic Regression', 'Validation fold 1 Score': valid_scores[0], 'Validation fold 2 Score': valid_scores[1], 'Validation fold 3 Score': valid_scores[2], 'Validation fold 4 Score': valid_scores[3], 'Validation fold 5 Score': valid_scores[4], 'Mean AUPR Score': np.mean(valid_scores)}, ignore_index = True)\n"
   ]
  },
  {
   "cell_type": "code",
   "execution_count": 123,
   "metadata": {},
   "outputs": [
    {
     "name": "stdout",
     "output_type": "stream",
     "text": [
      "              precision    recall  f1-score   support\n",
      "\n",
      "         0.0       0.77      1.00      0.87        71\n",
      "         1.0       1.00      0.84      0.91       133\n",
      "\n",
      "    accuracy                           0.90       204\n",
      "   macro avg       0.89      0.92      0.89       204\n",
      "weighted avg       0.92      0.90      0.90       204\n",
      "\n"
     ]
    }
   ],
   "source": [
    "print(classification_report(lr.predict(fp_test_array), y_test))"
   ]
  },
  {
   "cell_type": "code",
   "execution_count": 124,
   "metadata": {},
   "outputs": [
    {
     "data": {
      "text/plain": [
       "Text(54.25999999999999, 0.5, 'True Label')"
      ]
     },
     "execution_count": 124,
     "metadata": {},
     "output_type": "execute_result"
    },
    {
     "data": {
      "image/png": "[encoded data removed]",
      "text/plain": [
       "<Figure size 432x432 with 2 Axes>"
      ]
     },
     "metadata": {
      "image/png": {
       "height": 388,
       "width": 380
      }
     },
     "output_type": "display_data"
    }
   ],
   "source": [
    "# Confusion matrix \n",
    "cm = confusion_matrix(y_test, lr.predict(fp_test_array))\n",
    "df_cm = pd.DataFrame(cm, index = [0, 1], columns = [0,1])\n",
    "plt.figure(figsize=(6, 6))\n",
    "sns.heatmap(df_cm, annot=True)\n",
    "plt.xlabel('Predicted Label')\n",
    "plt.ylabel('True Label')"
   ]
  },
  {
   "cell_type": "markdown",
   "metadata": {},
   "source": [
    "# LogisticRegression with Lasso"
   ]
  },
  {
   "cell_type": "code",
   "execution_count": 125,
   "metadata": {},
   "outputs": [
    {
     "name": "stdout",
     "output_type": "stream",
     "text": [
      "Mean training scores 0.8222222222222222 ,  Mean validation scores 0.8220858895705522\n"
     ]
    }
   ],
   "source": [
    "ls = LogisticRegression(penalty = 'l1', C=0.01, solver='liblinear') # L1 is lasso\n",
    "train_scores, valid_scores, ls = k_fold_generator(fp_array, y, 5, ls, 'ls')\n",
    "\n",
    "print('Mean training scores', np.mean(train_scores), ',  Mean validation scores', np.mean(valid_scores))"
   ]
  },
  {
   "cell_type": "code",
   "execution_count": 126,
   "metadata": {},
   "outputs": [
    {
     "name": "stdout",
     "output_type": "stream",
     "text": [
      "[[0. 0. 0. ... 0. 0. 0.]]\n",
      "[1.08740482]\n"
     ]
    }
   ],
   "source": [
    "print(ls.coef_)\n",
    "print(ls.intercept_)"
   ]
  },
  {
   "cell_type": "code",
   "execution_count": 127,
   "metadata": {},
   "outputs": [],
   "source": [
    "### Coefficients of almost features is 0 - this is probably because of large penalizing. Since most features are discarded (weights go to 0) the predictions hardly change. To avoid this, reduce C value ( increase C value which is inverse of alpha, to reduce penalizing)."
   ]
  },
  {
   "cell_type": "code",
   "execution_count": 128,
   "metadata": {},
   "outputs": [
    {
     "name": "stdout",
     "output_type": "stream",
     "text": [
      "Mean training scores 0.9385876215038907 ,  Mean validation scores 0.9172914842510052\n"
     ]
    }
   ],
   "source": [
    "# Updated C value\n",
    "ls = LogisticRegression(penalty = 'l1', C=0.5, solver='liblinear') # L1 is lasso\n",
    "train_scores, valid_scores, ls = k_fold_generator(fp_array, y, 5, ls, 'ls')\n",
    "\n",
    "print('Mean training scores', np.mean(train_scores), ',  Mean validation scores', np.mean(valid_scores))"
   ]
  },
  {
   "cell_type": "code",
   "execution_count": 129,
   "metadata": {},
   "outputs": [
    {
     "name": "stdout",
     "output_type": "stream",
     "text": [
      "[[0. 0. 0. ... 0. 0. 0.]]\n",
      "[3.41162366]\n"
     ]
    }
   ],
   "source": [
    "print(ls.coef_)\n",
    "print(ls.intercept_)"
   ]
  },
  {
   "cell_type": "code",
   "execution_count": 130,
   "metadata": {},
   "outputs": [],
   "source": [
    "# Add validation fold values to table\n",
    "model_scores = model_scores.append({'Model': 'Lasso Classifier (L1)', 'Validation fold 1 Score': valid_scores[0], 'Validation fold 2 Score': valid_scores[1], 'Validation fold 3 Score': valid_scores[2], 'Validation fold 4 Score': valid_scores[3], 'Validation fold 5 Score': valid_scores[4], 'Mean AUPR Score': np.mean(valid_scores)}, ignore_index = True)\n"
   ]
  },
  {
   "cell_type": "code",
   "execution_count": 131,
   "metadata": {},
   "outputs": [],
   "source": [
    "ls_predictions = ls.predict(fp_test_array)"
   ]
  },
  {
   "cell_type": "code",
   "execution_count": 132,
   "metadata": {},
   "outputs": [
    {
     "name": "stdout",
     "output_type": "stream",
     "text": [
      "              precision    recall  f1-score   support\n",
      "\n",
      "         0.0       0.76      0.96      0.85        73\n",
      "         1.0       0.97      0.83      0.90       131\n",
      "\n",
      "    accuracy                           0.88       204\n",
      "   macro avg       0.87      0.90      0.87       204\n",
      "weighted avg       0.90      0.88      0.88       204\n",
      "\n"
     ]
    }
   ],
   "source": [
    "print(classification_report(ls_predictions, y_test))"
   ]
  },
  {
   "cell_type": "code",
   "execution_count": 133,
   "metadata": {},
   "outputs": [
    {
     "data": {
      "text/plain": [
       "Text(54.25999999999999, 0.5, 'True Label')"
      ]
     },
     "execution_count": 133,
     "metadata": {},
     "output_type": "execute_result"
    },
    {
     "data": {
      "image/png": "[encoded data removed]",
      "text/plain": [
       "<Figure size 432x432 with 2 Axes>"
      ]
     },
     "metadata": {
      "image/png": {
       "height": 388,
       "width": 380
      }
     },
     "output_type": "display_data"
    }
   ],
   "source": [
    "# Confusion matrix \n",
    "cm = confusion_matrix(y_test, ls_predictions)\n",
    "df_cm = pd.DataFrame(cm, index = [0, 1], columns = [0,1])\n",
    "plt.figure(figsize=(6, 6))\n",
    "sns.heatmap(df_cm, annot=True)\n",
    "plt.xlabel('Predicted Label')\n",
    "plt.ylabel('True Label')"
   ]
  },
  {
   "cell_type": "markdown",
   "metadata": {},
   "source": [
    "# SVC Model"
   ]
  },
  {
   "cell_type": "code",
   "execution_count": 134,
   "metadata": {},
   "outputs": [
    {
     "name": "stdout",
     "output_type": "stream",
     "text": [
      "Mean training scores 0.9380414575234244 ,  Mean validation scores 0.909199596775173\n"
     ]
    }
   ],
   "source": [
    "from sklearn.svm import SVC\n",
    "svc = SVC(C = 0.8, kernel = 'rbf' ) # Adding small regularization parameter and RBF kernel for svc\n",
    "\n",
    "train_scores, valid_scores, svc = k_fold_generator(fp_array, y, 5, svc, 'svc')\n",
    "\n",
    "print('Mean training scores', np.mean(train_scores), ',  Mean validation scores', np.mean(valid_scores))"
   ]
  },
  {
   "cell_type": "code",
   "execution_count": 135,
   "metadata": {},
   "outputs": [],
   "source": [
    "# Add validation fold values to table\n",
    "model_scores = model_scores.append({'Model': 'Support Vector Classifier', 'Validation fold 1 Score': valid_scores[0], 'Validation fold 2 Score': valid_scores[1], 'Validation fold 3 Score': valid_scores[2], 'Validation fold 4 Score': valid_scores[3], 'Validation fold 5 Score': valid_scores[4], 'Mean AUPR Score': np.mean(valid_scores)}, ignore_index = True)\n"
   ]
  },
  {
   "cell_type": "code",
   "execution_count": 136,
   "metadata": {},
   "outputs": [
    {
     "name": "stdout",
     "output_type": "stream",
     "text": [
      "              precision    recall  f1-score   support\n",
      "\n",
      "         0.0       0.72      1.00      0.84        66\n",
      "         1.0       1.00      0.81      0.90       138\n",
      "\n",
      "    accuracy                           0.87       204\n",
      "   macro avg       0.86      0.91      0.87       204\n",
      "weighted avg       0.91      0.87      0.88       204\n",
      "\n"
     ]
    }
   ],
   "source": [
    "svc_predictions = svc.predict(fp_test_array)\n",
    "\n",
    "print(classification_report(svc_predictions, y_test))"
   ]
  },
  {
   "cell_type": "code",
   "execution_count": 137,
   "metadata": {},
   "outputs": [
    {
     "data": {
      "text/plain": [
       "Text(54.25999999999999, 0.5, 'True Label')"
      ]
     },
     "execution_count": 137,
     "metadata": {},
     "output_type": "execute_result"
    },
    {
     "data": {
      "image/png": "[encoded data removed]",
      "text/plain": [
       "<Figure size 432x432 with 2 Axes>"
      ]
     },
     "metadata": {
      "image/png": {
       "height": 388,
       "width": 380
      }
     },
     "output_type": "display_data"
    }
   ],
   "source": [
    "# Confusion matrix \n",
    "cm = confusion_matrix(y_test, svc_predictions)\n",
    "df_cm = pd.DataFrame(cm, index = [0, 1], columns = [0,1])\n",
    "plt.figure(figsize=(6, 6))\n",
    "sns.heatmap(df_cm, annot=True)\n",
    "plt.xlabel('Predicted Label')\n",
    "plt.ylabel('True Label')"
   ]
  },
  {
   "cell_type": "markdown",
   "metadata": {},
   "source": [
    "# Gaussian Naive Bayes"
   ]
  },
  {
   "cell_type": "code",
   "execution_count": 138,
   "metadata": {},
   "outputs": [
    {
     "name": "stdout",
     "output_type": "stream",
     "text": [
      "Mean training scores 0.9143307211931404 ,  Mean validation scores 0.8555428984731398\n"
     ]
    }
   ],
   "source": [
    "from sklearn.naive_bayes import GaussianNB\n",
    "gnb = GaussianNB()\n",
    "\n",
    "train_scores, valid_scores, gnb = k_fold_generator(fp_array, y, 5, gnb, 'gnb')\n",
    "\n",
    "print('Mean training scores', np.mean(train_scores), ',  Mean validation scores', np.mean(valid_scores))"
   ]
  },
  {
   "cell_type": "code",
   "execution_count": 139,
   "metadata": {},
   "outputs": [],
   "source": [
    "# Add validation fold values to table\n",
    "model_scores = model_scores.append({'Model': 'Gaussian Naive Bayes Classifier', 'Validation fold 1 Score': valid_scores[0], 'Validation fold 2 Score': valid_scores[1], 'Validation fold 3 Score': valid_scores[2], 'Validation fold 4 Score': valid_scores[3], 'Validation fold 5 Score': valid_scores[4], 'Mean AUPR Score': np.mean(valid_scores)}, ignore_index = True)\n"
   ]
  },
  {
   "cell_type": "code",
   "execution_count": 140,
   "metadata": {},
   "outputs": [
    {
     "name": "stdout",
     "output_type": "stream",
     "text": [
      "              precision    recall  f1-score   support\n",
      "\n",
      "         0.0       0.39      0.44      0.41        82\n",
      "         1.0       0.59      0.54      0.56       122\n",
      "\n",
      "    accuracy                           0.50       204\n",
      "   macro avg       0.49      0.49      0.49       204\n",
      "weighted avg       0.51      0.50      0.50       204\n",
      "\n"
     ]
    }
   ],
   "source": [
    "gnb_predictions = gnb.predict(fp_test_array)\n",
    "\n",
    "print(classification_report(gnb_predictions, y_test))"
   ]
  },
  {
   "cell_type": "code",
   "execution_count": 141,
   "metadata": {},
   "outputs": [
    {
     "data": {
      "text/plain": [
       "Text(54.25999999999999, 0.5, 'True Label')"
      ]
     },
     "execution_count": 141,
     "metadata": {},
     "output_type": "execute_result"
    },
    {
     "data": {
      "image/png": "[encoded data removed]",
      "text/plain": [
       "<Figure size 432x432 with 2 Axes>"
      ]
     },
     "metadata": {
      "image/png": {
       "height": 388,
       "width": 374
      }
     },
     "output_type": "display_data"
    }
   ],
   "source": [
    "# Confusion matrix \n",
    "cm = confusion_matrix(y_test, gnb_predictions)\n",
    "df_cm = pd.DataFrame(cm, index = [0, 1], columns = [0,1])\n",
    "plt.figure(figsize=(6, 6))\n",
    "sns.heatmap(df_cm, annot=True)\n",
    "plt.xlabel('Predicted Label')\n",
    "plt.ylabel('True Label')"
   ]
  },
  {
   "cell_type": "code",
   "execution_count": 142,
   "metadata": {},
   "outputs": [
    {
     "data": {
      "text/html": [
       "<div>\n",
       "<style scoped>\n",
       "    .dataframe tbody tr th:only-of-type {\n",
       "        vertical-align: middle;\n",
       "    }\n",
       "\n",
       "    .dataframe tbody tr th {\n",
       "        vertical-align: top;\n",
       "    }\n",
       "\n",
       "    .dataframe thead th {\n",
       "        text-align: right;\n",
       "    }\n",
       "</style>\n",
       "<table border=\"1\" class=\"dataframe\">\n",
       "  <thead>\n",
       "    <tr style=\"text-align: right;\">\n",
       "      <th></th>\n",
       "      <th>Model</th>\n",
       "      <th>Validation fold 1 Score</th>\n",
       "      <th>Validation fold 2 Score</th>\n",
       "      <th>Validation fold 3 Score</th>\n",
       "      <th>Validation fold 4 Score</th>\n",
       "      <th>Validation fold 5 Score</th>\n",
       "      <th>Mean AUPR Score</th>\n",
       "    </tr>\n",
       "  </thead>\n",
       "  <tbody>\n",
       "    <tr>\n",
       "      <th>0</th>\n",
       "      <td>Logistic Regression</td>\n",
       "      <td>0.912470</td>\n",
       "      <td>0.922513</td>\n",
       "      <td>0.928506</td>\n",
       "      <td>0.937749</td>\n",
       "      <td>0.920286</td>\n",
       "      <td>0.924305</td>\n",
       "    </tr>\n",
       "    <tr>\n",
       "      <th>1</th>\n",
       "      <td>Lasso Classifier (L1)</td>\n",
       "      <td>0.928900</td>\n",
       "      <td>0.906990</td>\n",
       "      <td>0.920275</td>\n",
       "      <td>0.913917</td>\n",
       "      <td>0.916375</td>\n",
       "      <td>0.917291</td>\n",
       "    </tr>\n",
       "    <tr>\n",
       "      <th>2</th>\n",
       "      <td>Support Vector Classifier</td>\n",
       "      <td>0.900022</td>\n",
       "      <td>0.913080</td>\n",
       "      <td>0.909301</td>\n",
       "      <td>0.895114</td>\n",
       "      <td>0.928481</td>\n",
       "      <td>0.909200</td>\n",
       "    </tr>\n",
       "    <tr>\n",
       "      <th>3</th>\n",
       "      <td>Gaussian Naive Bayes Classifier</td>\n",
       "      <td>0.843203</td>\n",
       "      <td>0.884258</td>\n",
       "      <td>0.878238</td>\n",
       "      <td>0.826347</td>\n",
       "      <td>0.845667</td>\n",
       "      <td>0.855543</td>\n",
       "    </tr>\n",
       "  </tbody>\n",
       "</table>\n",
       "</div>"
      ],
      "text/plain": [
       "                             Model  Validation fold 1 Score  \\\n",
       "0              Logistic Regression                 0.912470   \n",
       "1            Lasso Classifier (L1)                 0.928900   \n",
       "2        Support Vector Classifier                 0.900022   \n",
       "3  Gaussian Naive Bayes Classifier                 0.843203   \n",
       "\n",
       "   Validation fold 2 Score  Validation fold 3 Score  Validation fold 4 Score  \\\n",
       "0                 0.922513                 0.928506                 0.937749   \n",
       "1                 0.906990                 0.920275                 0.913917   \n",
       "2                 0.913080                 0.909301                 0.895114   \n",
       "3                 0.884258                 0.878238                 0.826347   \n",
       "\n",
       "   Validation fold 5 Score  Mean AUPR Score  \n",
       "0                 0.920286         0.924305  \n",
       "1                 0.916375         0.917291  \n",
       "2                 0.928481         0.909200  \n",
       "3                 0.845667         0.855543  "
      ]
     },
     "execution_count": 142,
     "metadata": {},
     "output_type": "execute_result"
    }
   ],
   "source": [
    "model_scores"
   ]
  },
  {
   "cell_type": "markdown",
   "metadata": {},
   "source": [
    "Descriptors dataframe contains 1625 molecular descriptors (including 3D descriptors) generated on the NCI database using Mordred python module\n",
    "\n",
    "Lets examine the Descriptors dataframe to how the molecules in the data predict the permeability of the drug."
   ]
  },
  {
   "cell_type": "markdown",
   "metadata": {},
   "source": [
    "# Lets examine the Descriptors dataframe to how the molecules in the data predict the permeability of the drug."
   ]
  },
  {
   "cell_type": "code",
   "execution_count": 172,
   "metadata": {},
   "outputs": [],
   "source": [
    "import pandas as pd\n",
    "\n",
    "bbbp_descriptors_df = pd.read_csv('/Users/jagan/Downloads/BBBP_Descriptors/BBBP_Descriptors_df.csv')"
   ]
  },
  {
   "cell_type": "code",
   "execution_count": 173,
   "metadata": {},
   "outputs": [],
   "source": [
    "from sklearn.model_selection import train_test_split\n",
    "from sklearn.model_selection import KFold\n",
    "from sklearn.model_selection import cross_val_score\n",
    "from sklearn.linear_model import LinearRegression\n",
    "from numpy import mean\n",
    "from numpy import absolute\n",
    "from numpy import sqrt\n",
    "import pandas as pd"
   ]
  },
  {
   "cell_type": "code",
   "execution_count": 182,
   "metadata": {},
   "outputs": [
    {
     "name": "stdout",
     "output_type": "stream",
     "text": [
      "(2039, 1826)\n"
     ]
    },
    {
     "data": {
      "text/html": [
       "<div>\n",
       "<style scoped>\n",
       "    .dataframe tbody tr th:only-of-type {\n",
       "        vertical-align: middle;\n",
       "    }\n",
       "\n",
       "    .dataframe tbody tr th {\n",
       "        vertical-align: top;\n",
       "    }\n",
       "\n",
       "    .dataframe thead th {\n",
       "        text-align: right;\n",
       "    }\n",
       "</style>\n",
       "<table border=\"1\" class=\"dataframe\">\n",
       "  <thead>\n",
       "    <tr style=\"text-align: right;\">\n",
       "      <th></th>\n",
       "      <th>ABC</th>\n",
       "      <th>ABCGG</th>\n",
       "      <th>nAcid</th>\n",
       "      <th>nBase</th>\n",
       "      <th>SpAbs_A</th>\n",
       "      <th>SpMax_A</th>\n",
       "      <th>SpDiam_A</th>\n",
       "      <th>SpAD_A</th>\n",
       "      <th>SpMAD_A</th>\n",
       "      <th>LogEE_A</th>\n",
       "      <th>...</th>\n",
       "      <th>TSRW10</th>\n",
       "      <th>MW</th>\n",
       "      <th>AMW</th>\n",
       "      <th>WPath</th>\n",
       "      <th>WPol</th>\n",
       "      <th>Zagreb1</th>\n",
       "      <th>Zagreb2</th>\n",
       "      <th>mZagreb1</th>\n",
       "      <th>mZagreb2</th>\n",
       "      <th>p_np</th>\n",
       "    </tr>\n",
       "  </thead>\n",
       "  <tbody>\n",
       "    <tr>\n",
       "      <th>0</th>\n",
       "      <td>14.389425</td>\n",
       "      <td>11.808563</td>\n",
       "      <td>0</td>\n",
       "      <td>1</td>\n",
       "      <td>multiple fragments (SpAbs_A/SpAbs)</td>\n",
       "      <td>multiple fragments (SpMax_A/SpMax)</td>\n",
       "      <td>multiple fragments (SpDiam_A/SpDiam)</td>\n",
       "      <td>multiple fragments (SpAD_A/SpAD)</td>\n",
       "      <td>multiple fragments (SpMAD_A/SpMAD)</td>\n",
       "      <td>multiple fragments (LogEE_A/LogEE)</td>\n",
       "      <td>...</td>\n",
       "      <td>52.719904</td>\n",
       "      <td>294.126082</td>\n",
       "      <td>7.173807</td>\n",
       "      <td>1900000792</td>\n",
       "      <td>25</td>\n",
       "      <td>92.0</td>\n",
       "      <td>103.0</td>\n",
       "      <td>divide by zero encountered in power (mZagreb1)</td>\n",
       "      <td>4.305556</td>\n",
       "      <td>1</td>\n",
       "    </tr>\n",
       "    <tr>\n",
       "      <th>1</th>\n",
       "      <td>16.809162</td>\n",
       "      <td>13.974216</td>\n",
       "      <td>0</td>\n",
       "      <td>0</td>\n",
       "      <td>27.07079790976892</td>\n",
       "      <td>2.2954078760731984</td>\n",
       "      <td>4.590815752146396</td>\n",
       "      <td>27.07079790976892</td>\n",
       "      <td>1.176991213468214</td>\n",
       "      <td>4.006826078023401</td>\n",
       "      <td>...</td>\n",
       "      <td>56.206491</td>\n",
       "      <td>359.141884</td>\n",
       "      <td>7.182838</td>\n",
       "      <td>1492</td>\n",
       "      <td>28</td>\n",
       "      <td>106.0</td>\n",
       "      <td>114.0</td>\n",
       "      <td>9.506944444444443</td>\n",
       "      <td>5.319444</td>\n",
       "      <td>1</td>\n",
       "    </tr>\n",
       "    <tr>\n",
       "      <th>2</th>\n",
       "      <td>20.758034</td>\n",
       "      <td>16.164169</td>\n",
       "      <td>1</td>\n",
       "      <td>1</td>\n",
       "      <td>33.465822016594636</td>\n",
       "      <td>2.5785233443199886</td>\n",
       "      <td>5.157046688639976</td>\n",
       "      <td>33.465822016594636</td>\n",
       "      <td>1.2871470006382553</td>\n",
       "      <td>4.212470854925482</td>\n",
       "      <td>...</td>\n",
       "      <td>61.857420</td>\n",
       "      <td>361.143784</td>\n",
       "      <td>7.850952</td>\n",
       "      <td>1484</td>\n",
       "      <td>51</td>\n",
       "      <td>146.0</td>\n",
       "      <td>180.0</td>\n",
       "      <td>9.333333333333334</td>\n",
       "      <td>5.527778</td>\n",
       "      <td>1</td>\n",
       "    </tr>\n",
       "    <tr>\n",
       "      <th>3</th>\n",
       "      <td>15.775129</td>\n",
       "      <td>12.193243</td>\n",
       "      <td>0</td>\n",
       "      <td>1</td>\n",
       "      <td>26.569834753519054</td>\n",
       "      <td>2.2810418592150574</td>\n",
       "      <td>4.562083718430117</td>\n",
       "      <td>26.569834753519054</td>\n",
       "      <td>1.2652302263580502</td>\n",
       "      <td>3.9370258695924103</td>\n",
       "      <td>...</td>\n",
       "      <td>53.624898</td>\n",
       "      <td>290.199428</td>\n",
       "      <td>6.174456</td>\n",
       "      <td>1158</td>\n",
       "      <td>24</td>\n",
       "      <td>98.0</td>\n",
       "      <td>106.0</td>\n",
       "      <td>6.194444444444445</td>\n",
       "      <td>4.833333</td>\n",
       "      <td>1</td>\n",
       "    </tr>\n",
       "    <tr>\n",
       "      <th>4</th>\n",
       "      <td>23.095142</td>\n",
       "      <td>19.875288</td>\n",
       "      <td>1</td>\n",
       "      <td>0</td>\n",
       "      <td>36.20647450941663</td>\n",
       "      <td>2.6329498486229084</td>\n",
       "      <td>5.121946098165539</td>\n",
       "      <td>36.20647450941663</td>\n",
       "      <td>1.2484991210143666</td>\n",
       "      <td>4.326727233654511</td>\n",
       "      <td>...</td>\n",
       "      <td>82.182989</td>\n",
       "      <td>435.065569</td>\n",
       "      <td>9.256714</td>\n",
       "      <td>2212</td>\n",
       "      <td>50</td>\n",
       "      <td>164.0</td>\n",
       "      <td>203.0</td>\n",
       "      <td>11.395833333333332</td>\n",
       "      <td>6.097222</td>\n",
       "      <td>1</td>\n",
       "    </tr>\n",
       "  </tbody>\n",
       "</table>\n",
       "<p>5 rows × 1826 columns</p>\n",
       "</div>"
      ],
      "text/plain": [
       "         ABC      ABCGG  nAcid  nBase                             SpAbs_A  \\\n",
       "0  14.389425  11.808563      0      1  multiple fragments (SpAbs_A/SpAbs)   \n",
       "1  16.809162  13.974216      0      0                   27.07079790976892   \n",
       "2  20.758034  16.164169      1      1                  33.465822016594636   \n",
       "3  15.775129  12.193243      0      1                  26.569834753519054   \n",
       "4  23.095142  19.875288      1      0                   36.20647450941663   \n",
       "\n",
       "                              SpMax_A                              SpDiam_A  \\\n",
       "0  multiple fragments (SpMax_A/SpMax)  multiple fragments (SpDiam_A/SpDiam)   \n",
       "1                  2.2954078760731984                     4.590815752146396   \n",
       "2                  2.5785233443199886                     5.157046688639976   \n",
       "3                  2.2810418592150574                     4.562083718430117   \n",
       "4                  2.6329498486229084                     5.121946098165539   \n",
       "\n",
       "                             SpAD_A                             SpMAD_A  \\\n",
       "0  multiple fragments (SpAD_A/SpAD)  multiple fragments (SpMAD_A/SpMAD)   \n",
       "1                 27.07079790976892                   1.176991213468214   \n",
       "2                33.465822016594636                  1.2871470006382553   \n",
       "3                26.569834753519054                  1.2652302263580502   \n",
       "4                 36.20647450941663                  1.2484991210143666   \n",
       "\n",
       "                              LogEE_A  ...     TSRW10          MW       AMW  \\\n",
       "0  multiple fragments (LogEE_A/LogEE)  ...  52.719904  294.126082  7.173807   \n",
       "1                   4.006826078023401  ...  56.206491  359.141884  7.182838   \n",
       "2                   4.212470854925482  ...  61.857420  361.143784  7.850952   \n",
       "3                  3.9370258695924103  ...  53.624898  290.199428  6.174456   \n",
       "4                   4.326727233654511  ...  82.182989  435.065569  9.256714   \n",
       "\n",
       "        WPath WPol Zagreb1  Zagreb2  \\\n",
       "0  1900000792   25    92.0    103.0   \n",
       "1        1492   28   106.0    114.0   \n",
       "2        1484   51   146.0    180.0   \n",
       "3        1158   24    98.0    106.0   \n",
       "4        2212   50   164.0    203.0   \n",
       "\n",
       "                                         mZagreb1  mZagreb2  p_np  \n",
       "0  divide by zero encountered in power (mZagreb1)  4.305556     1  \n",
       "1                               9.506944444444443  5.319444     1  \n",
       "2                               9.333333333333334  5.527778     1  \n",
       "3                               6.194444444444445  4.833333     1  \n",
       "4                              11.395833333333332  6.097222     1  \n",
       "\n",
       "[5 rows x 1826 columns]"
      ]
     },
     "execution_count": 182,
     "metadata": {},
     "output_type": "execute_result"
    }
   ],
   "source": [
    "print(bbbp_descriptors_df.shape)\n",
    "bbbp_descriptors_df.head()\n",
    "x=bbbp_descriptors_df.pop('p_np')\n",
    "bbbp_descriptors_df.insert(1825, 'p_np', column_to_move)\n",
    "bbbp_descriptors_df.head()"
   ]
  },
  {
   "cell_type": "markdown",
   "metadata": {},
   "source": [
    "# Finding correlation between the columns"
   ]
  },
  {
   "cell_type": "code",
   "execution_count": 213,
   "metadata": {},
   "outputs": [
    {
     "name": "stdout",
     "output_type": "stream",
     "text": [
      "n_np is highly correlated with ATSC1c    0.50154\n",
      "Name: p_np, dtype: float64\n",
      "Top 10 features that have decisive role on permeability are\n",
      "MATS1are    0.310021\n",
      "Name: p_np, dtype: float64\n",
      "MATS1pe    0.315559\n",
      "Name: p_np, dtype: float64\n",
      "AATSC1c    0.333928\n",
      "Name: p_np, dtype: float64\n",
      "Lipinski    0.334814\n",
      "Name: p_np, dtype: float64\n",
      "SsssCH    0.360272\n",
      "Name: p_np, dtype: float64\n",
      "SdssC    0.385012\n",
      "Name: p_np, dtype: float64\n",
      "ATSC1pe    0.40103\n",
      "Name: p_np, dtype: float64\n",
      "ATSC1se    0.410719\n",
      "Name: p_np, dtype: float64\n",
      "ATSC1are    0.4139\n",
      "Name: p_np, dtype: float64\n",
      "ATSC1c    0.50154\n",
      "Name: p_np, dtype: float64\n"
     ]
    }
   ],
   "source": [
    "correlation=bbbp_descriptors_df.corr()\n",
    "l=correlation['p_np']\n",
    "ll=[]\n",
    "\n",
    "for i in l:\n",
    "    if i>0:\n",
    "        ll.append(i)\n",
    "ll.sort()\n",
    "\n",
    "print(\"n_np is highly correlated with\",l[l==ll[-2]])\n",
    "\n",
    "print(\"Top 10 features that have decisive role on permeability are\",)\n",
    "\n",
    "for i in range(-11,-1,1):\n",
    "    \n",
    "    print(l[l==ll[i]])"
   ]
  },
  {
   "cell_type": "code",
   "execution_count": 220,
   "metadata": {},
   "outputs": [
    {
     "data": {
      "text/html": [
       "<div>\n",
       "<style scoped>\n",
       "    .dataframe tbody tr th:only-of-type {\n",
       "        vertical-align: middle;\n",
       "    }\n",
       "\n",
       "    .dataframe tbody tr th {\n",
       "        vertical-align: top;\n",
       "    }\n",
       "\n",
       "    .dataframe thead th {\n",
       "        text-align: right;\n",
       "    }\n",
       "</style>\n",
       "<table border=\"1\" class=\"dataframe\">\n",
       "  <thead>\n",
       "    <tr style=\"text-align: right;\">\n",
       "      <th></th>\n",
       "      <th>ABC</th>\n",
       "      <th>ABCGG</th>\n",
       "      <th>nAcid</th>\n",
       "      <th>nBase</th>\n",
       "      <th>nAromAtom</th>\n",
       "      <th>nAromBond</th>\n",
       "      <th>nAtom</th>\n",
       "      <th>nHeavyAtom</th>\n",
       "      <th>nSpiro</th>\n",
       "      <th>nBridgehead</th>\n",
       "      <th>...</th>\n",
       "      <th>SRW10</th>\n",
       "      <th>TSRW10</th>\n",
       "      <th>MW</th>\n",
       "      <th>AMW</th>\n",
       "      <th>WPath</th>\n",
       "      <th>WPol</th>\n",
       "      <th>Zagreb1</th>\n",
       "      <th>Zagreb2</th>\n",
       "      <th>mZagreb2</th>\n",
       "      <th>p_np</th>\n",
       "    </tr>\n",
       "  </thead>\n",
       "  <tbody>\n",
       "    <tr>\n",
       "      <th>ABC</th>\n",
       "      <td>1.000000</td>\n",
       "      <td>0.985616</td>\n",
       "      <td>0.129367</td>\n",
       "      <td>0.154078</td>\n",
       "      <td>0.259233</td>\n",
       "      <td>0.259231</td>\n",
       "      <td>0.958944</td>\n",
       "      <td>0.996899</td>\n",
       "      <td>0.159362</td>\n",
       "      <td>0.314471</td>\n",
       "      <td>...</td>\n",
       "      <td>0.747482</td>\n",
       "      <td>0.897807</td>\n",
       "      <td>0.981748</td>\n",
       "      <td>-0.101157</td>\n",
       "      <td>0.236842</td>\n",
       "      <td>0.956784</td>\n",
       "      <td>0.995069</td>\n",
       "      <td>0.981897</td>\n",
       "      <td>0.987636</td>\n",
       "      <td>-0.314142</td>\n",
       "    </tr>\n",
       "    <tr>\n",
       "      <th>ABCGG</th>\n",
       "      <td>0.985616</td>\n",
       "      <td>1.000000</td>\n",
       "      <td>0.155547</td>\n",
       "      <td>0.128688</td>\n",
       "      <td>0.188533</td>\n",
       "      <td>0.188625</td>\n",
       "      <td>0.948840</td>\n",
       "      <td>0.986052</td>\n",
       "      <td>0.136782</td>\n",
       "      <td>0.262403</td>\n",
       "      <td>...</td>\n",
       "      <td>0.767142</td>\n",
       "      <td>0.904116</td>\n",
       "      <td>0.976738</td>\n",
       "      <td>-0.090605</td>\n",
       "      <td>0.232366</td>\n",
       "      <td>0.954588</td>\n",
       "      <td>0.983171</td>\n",
       "      <td>0.972725</td>\n",
       "      <td>0.977035</td>\n",
       "      <td>-0.344348</td>\n",
       "    </tr>\n",
       "    <tr>\n",
       "      <th>nAcid</th>\n",
       "      <td>0.129367</td>\n",
       "      <td>0.155547</td>\n",
       "      <td>1.000000</td>\n",
       "      <td>0.017861</td>\n",
       "      <td>0.032844</td>\n",
       "      <td>0.031539</td>\n",
       "      <td>0.058016</td>\n",
       "      <td>0.149079</td>\n",
       "      <td>-0.059858</td>\n",
       "      <td>-0.013780</td>\n",
       "      <td>...</td>\n",
       "      <td>0.094680</td>\n",
       "      <td>0.146132</td>\n",
       "      <td>0.181028</td>\n",
       "      <td>0.175504</td>\n",
       "      <td>0.102040</td>\n",
       "      <td>0.053085</td>\n",
       "      <td>0.116876</td>\n",
       "      <td>0.103635</td>\n",
       "      <td>0.138768</td>\n",
       "      <td>-0.309663</td>\n",
       "    </tr>\n",
       "    <tr>\n",
       "      <th>nBase</th>\n",
       "      <td>0.154078</td>\n",
       "      <td>0.128688</td>\n",
       "      <td>0.017861</td>\n",
       "      <td>1.000000</td>\n",
       "      <td>0.120338</td>\n",
       "      <td>0.115536</td>\n",
       "      <td>0.197635</td>\n",
       "      <td>0.162873</td>\n",
       "      <td>0.056761</td>\n",
       "      <td>0.062882</td>\n",
       "      <td>...</td>\n",
       "      <td>0.114739</td>\n",
       "      <td>0.095631</td>\n",
       "      <td>0.156091</td>\n",
       "      <td>-0.124933</td>\n",
       "      <td>0.011834</td>\n",
       "      <td>0.101619</td>\n",
       "      <td>0.137825</td>\n",
       "      <td>0.121826</td>\n",
       "      <td>0.165607</td>\n",
       "      <td>-0.074009</td>\n",
       "    </tr>\n",
       "    <tr>\n",
       "      <th>nAromAtom</th>\n",
       "      <td>0.259233</td>\n",
       "      <td>0.188533</td>\n",
       "      <td>0.032844</td>\n",
       "      <td>0.120338</td>\n",
       "      <td>1.000000</td>\n",
       "      <td>0.998078</td>\n",
       "      <td>0.131256</td>\n",
       "      <td>0.250706</td>\n",
       "      <td>-0.045798</td>\n",
       "      <td>0.046411</td>\n",
       "      <td>...</td>\n",
       "      <td>0.195879</td>\n",
       "      <td>0.212747</td>\n",
       "      <td>0.213220</td>\n",
       "      <td>0.017625</td>\n",
       "      <td>-0.020239</td>\n",
       "      <td>0.131150</td>\n",
       "      <td>0.225857</td>\n",
       "      <td>0.194939</td>\n",
       "      <td>0.263376</td>\n",
       "      <td>-0.001848</td>\n",
       "    </tr>\n",
       "    <tr>\n",
       "      <th>...</th>\n",
       "      <td>...</td>\n",
       "      <td>...</td>\n",
       "      <td>...</td>\n",
       "      <td>...</td>\n",
       "      <td>...</td>\n",
       "      <td>...</td>\n",
       "      <td>...</td>\n",
       "      <td>...</td>\n",
       "      <td>...</td>\n",
       "      <td>...</td>\n",
       "      <td>...</td>\n",
       "      <td>...</td>\n",
       "      <td>...</td>\n",
       "      <td>...</td>\n",
       "      <td>...</td>\n",
       "      <td>...</td>\n",
       "      <td>...</td>\n",
       "      <td>...</td>\n",
       "      <td>...</td>\n",
       "      <td>...</td>\n",
       "      <td>...</td>\n",
       "    </tr>\n",
       "    <tr>\n",
       "      <th>WPol</th>\n",
       "      <td>0.956784</td>\n",
       "      <td>0.954588</td>\n",
       "      <td>0.053085</td>\n",
       "      <td>0.101619</td>\n",
       "      <td>0.131150</td>\n",
       "      <td>0.132505</td>\n",
       "      <td>0.917577</td>\n",
       "      <td>0.944887</td>\n",
       "      <td>0.207189</td>\n",
       "      <td>0.338335</td>\n",
       "      <td>...</td>\n",
       "      <td>0.777978</td>\n",
       "      <td>0.874144</td>\n",
       "      <td>0.925053</td>\n",
       "      <td>-0.113322</td>\n",
       "      <td>0.209402</td>\n",
       "      <td>1.000000</td>\n",
       "      <td>0.976614</td>\n",
       "      <td>0.987598</td>\n",
       "      <td>0.923451</td>\n",
       "      <td>-0.271264</td>\n",
       "    </tr>\n",
       "    <tr>\n",
       "      <th>Zagreb1</th>\n",
       "      <td>0.995069</td>\n",
       "      <td>0.983171</td>\n",
       "      <td>0.116876</td>\n",
       "      <td>0.137825</td>\n",
       "      <td>0.225857</td>\n",
       "      <td>0.226590</td>\n",
       "      <td>0.947947</td>\n",
       "      <td>0.986651</td>\n",
       "      <td>0.185550</td>\n",
       "      <td>0.327996</td>\n",
       "      <td>...</td>\n",
       "      <td>0.775663</td>\n",
       "      <td>0.910845</td>\n",
       "      <td>0.970322</td>\n",
       "      <td>-0.100431</td>\n",
       "      <td>0.231977</td>\n",
       "      <td>0.976614</td>\n",
       "      <td>1.000000</td>\n",
       "      <td>0.995737</td>\n",
       "      <td>0.970378</td>\n",
       "      <td>-0.306156</td>\n",
       "    </tr>\n",
       "    <tr>\n",
       "      <th>Zagreb2</th>\n",
       "      <td>0.981897</td>\n",
       "      <td>0.972725</td>\n",
       "      <td>0.103635</td>\n",
       "      <td>0.121826</td>\n",
       "      <td>0.194939</td>\n",
       "      <td>0.196359</td>\n",
       "      <td>0.930267</td>\n",
       "      <td>0.968987</td>\n",
       "      <td>0.208048</td>\n",
       "      <td>0.336705</td>\n",
       "      <td>...</td>\n",
       "      <td>0.794826</td>\n",
       "      <td>0.914790</td>\n",
       "      <td>0.950781</td>\n",
       "      <td>-0.102849</td>\n",
       "      <td>0.224068</td>\n",
       "      <td>0.987598</td>\n",
       "      <td>0.995737</td>\n",
       "      <td>1.000000</td>\n",
       "      <td>0.947334</td>\n",
       "      <td>-0.295054</td>\n",
       "    </tr>\n",
       "    <tr>\n",
       "      <th>mZagreb2</th>\n",
       "      <td>0.987636</td>\n",
       "      <td>0.977035</td>\n",
       "      <td>0.138768</td>\n",
       "      <td>0.165607</td>\n",
       "      <td>0.263376</td>\n",
       "      <td>0.262894</td>\n",
       "      <td>0.966018</td>\n",
       "      <td>0.995097</td>\n",
       "      <td>0.124828</td>\n",
       "      <td>0.290884</td>\n",
       "      <td>...</td>\n",
       "      <td>0.687423</td>\n",
       "      <td>0.857614</td>\n",
       "      <td>0.981344</td>\n",
       "      <td>-0.114053</td>\n",
       "      <td>0.240457</td>\n",
       "      <td>0.923451</td>\n",
       "      <td>0.970378</td>\n",
       "      <td>0.947334</td>\n",
       "      <td>1.000000</td>\n",
       "      <td>-0.322571</td>\n",
       "    </tr>\n",
       "    <tr>\n",
       "      <th>p_np</th>\n",
       "      <td>-0.314142</td>\n",
       "      <td>-0.344348</td>\n",
       "      <td>-0.309663</td>\n",
       "      <td>-0.074009</td>\n",
       "      <td>-0.001848</td>\n",
       "      <td>-0.004016</td>\n",
       "      <td>-0.272202</td>\n",
       "      <td>-0.325139</td>\n",
       "      <td>0.052746</td>\n",
       "      <td>-0.037811</td>\n",
       "      <td>...</td>\n",
       "      <td>-0.215559</td>\n",
       "      <td>-0.258654</td>\n",
       "      <td>-0.343396</td>\n",
       "      <td>-0.085664</td>\n",
       "      <td>-0.041094</td>\n",
       "      <td>-0.271264</td>\n",
       "      <td>-0.306156</td>\n",
       "      <td>-0.295054</td>\n",
       "      <td>-0.322571</td>\n",
       "      <td>1.000000</td>\n",
       "    </tr>\n",
       "  </tbody>\n",
       "</table>\n",
       "<p>879 rows × 879 columns</p>\n",
       "</div>"
      ],
      "text/plain": [
       "                ABC     ABCGG     nAcid     nBase  nAromAtom  nAromBond  \\\n",
       "ABC        1.000000  0.985616  0.129367  0.154078   0.259233   0.259231   \n",
       "ABCGG      0.985616  1.000000  0.155547  0.128688   0.188533   0.188625   \n",
       "nAcid      0.129367  0.155547  1.000000  0.017861   0.032844   0.031539   \n",
       "nBase      0.154078  0.128688  0.017861  1.000000   0.120338   0.115536   \n",
       "nAromAtom  0.259233  0.188533  0.032844  0.120338   1.000000   0.998078   \n",
       "...             ...       ...       ...       ...        ...        ...   \n",
       "WPol       0.956784  0.954588  0.053085  0.101619   0.131150   0.132505   \n",
       "Zagreb1    0.995069  0.983171  0.116876  0.137825   0.225857   0.226590   \n",
       "Zagreb2    0.981897  0.972725  0.103635  0.121826   0.194939   0.196359   \n",
       "mZagreb2   0.987636  0.977035  0.138768  0.165607   0.263376   0.262894   \n",
       "p_np      -0.314142 -0.344348 -0.309663 -0.074009  -0.001848  -0.004016   \n",
       "\n",
       "              nAtom  nHeavyAtom    nSpiro  nBridgehead  ...     SRW10  \\\n",
       "ABC        0.958944    0.996899  0.159362     0.314471  ...  0.747482   \n",
       "ABCGG      0.948840    0.986052  0.136782     0.262403  ...  0.767142   \n",
       "nAcid      0.058016    0.149079 -0.059858    -0.013780  ...  0.094680   \n",
       "nBase      0.197635    0.162873  0.056761     0.062882  ...  0.114739   \n",
       "nAromAtom  0.131256    0.250706 -0.045798     0.046411  ...  0.195879   \n",
       "...             ...         ...       ...          ...  ...       ...   \n",
       "WPol       0.917577    0.944887  0.207189     0.338335  ...  0.777978   \n",
       "Zagreb1    0.947947    0.986651  0.185550     0.327996  ...  0.775663   \n",
       "Zagreb2    0.930267    0.968987  0.208048     0.336705  ...  0.794826   \n",
       "mZagreb2   0.966018    0.995097  0.124828     0.290884  ...  0.687423   \n",
       "p_np      -0.272202   -0.325139  0.052746    -0.037811  ... -0.215559   \n",
       "\n",
       "             TSRW10        MW       AMW     WPath      WPol   Zagreb1  \\\n",
       "ABC        0.897807  0.981748 -0.101157  0.236842  0.956784  0.995069   \n",
       "ABCGG      0.904116  0.976738 -0.090605  0.232366  0.954588  0.983171   \n",
       "nAcid      0.146132  0.181028  0.175504  0.102040  0.053085  0.116876   \n",
       "nBase      0.095631  0.156091 -0.124933  0.011834  0.101619  0.137825   \n",
       "nAromAtom  0.212747  0.213220  0.017625 -0.020239  0.131150  0.225857   \n",
       "...             ...       ...       ...       ...       ...       ...   \n",
       "WPol       0.874144  0.925053 -0.113322  0.209402  1.000000  0.976614   \n",
       "Zagreb1    0.910845  0.970322 -0.100431  0.231977  0.976614  1.000000   \n",
       "Zagreb2    0.914790  0.950781 -0.102849  0.224068  0.987598  0.995737   \n",
       "mZagreb2   0.857614  0.981344 -0.114053  0.240457  0.923451  0.970378   \n",
       "p_np      -0.258654 -0.343396 -0.085664 -0.041094 -0.271264 -0.306156   \n",
       "\n",
       "            Zagreb2  mZagreb2      p_np  \n",
       "ABC        0.981897  0.987636 -0.314142  \n",
       "ABCGG      0.972725  0.977035 -0.344348  \n",
       "nAcid      0.103635  0.138768 -0.309663  \n",
       "nBase      0.121826  0.165607 -0.074009  \n",
       "nAromAtom  0.194939  0.263376 -0.001848  \n",
       "...             ...       ...       ...  \n",
       "WPol       0.987598  0.923451 -0.271264  \n",
       "Zagreb1    0.995737  0.970378 -0.306156  \n",
       "Zagreb2    1.000000  0.947334 -0.295054  \n",
       "mZagreb2   0.947334  1.000000 -0.322571  \n",
       "p_np      -0.295054 -0.322571  1.000000  \n",
       "\n",
       "[879 rows x 879 columns]"
      ]
     },
     "execution_count": 220,
     "metadata": {},
     "output_type": "execute_result"
    }
   ],
   "source": [
    "#Correlation of all columns \n",
    "bbbp_descriptors_df.corr()\n",
    "\n"
   ]
  },
  {
   "cell_type": "code",
   "execution_count": 26,
   "metadata": {},
   "outputs": [],
   "source": [
    "# function to coerce all data types to numeric\n",
    "\n",
    "def coerce_to_numeric(df, column_list):\n",
    "    df[column_list] = df[column_list].apply(pd.to_numeric, errors='coerce')"
   ]
  },
  {
   "cell_type": "code",
   "execution_count": 27,
   "metadata": {},
   "outputs": [
    {
     "data": {
      "text/html": [
       "<div>\n",
       "<style scoped>\n",
       "    .dataframe tbody tr th:only-of-type {\n",
       "        vertical-align: middle;\n",
       "    }\n",
       "\n",
       "    .dataframe tbody tr th {\n",
       "        vertical-align: top;\n",
       "    }\n",
       "\n",
       "    .dataframe thead th {\n",
       "        text-align: right;\n",
       "    }\n",
       "</style>\n",
       "<table border=\"1\" class=\"dataframe\">\n",
       "  <thead>\n",
       "    <tr style=\"text-align: right;\">\n",
       "      <th></th>\n",
       "      <th>ABC</th>\n",
       "      <th>ABCGG</th>\n",
       "      <th>nAcid</th>\n",
       "      <th>nBase</th>\n",
       "      <th>SpAbs_A</th>\n",
       "      <th>SpMax_A</th>\n",
       "      <th>SpDiam_A</th>\n",
       "      <th>SpAD_A</th>\n",
       "      <th>SpMAD_A</th>\n",
       "      <th>LogEE_A</th>\n",
       "      <th>...</th>\n",
       "      <th>SRW10</th>\n",
       "      <th>TSRW10</th>\n",
       "      <th>MW</th>\n",
       "      <th>AMW</th>\n",
       "      <th>WPath</th>\n",
       "      <th>WPol</th>\n",
       "      <th>Zagreb1</th>\n",
       "      <th>Zagreb2</th>\n",
       "      <th>mZagreb1</th>\n",
       "      <th>mZagreb2</th>\n",
       "    </tr>\n",
       "  </thead>\n",
       "  <tbody>\n",
       "    <tr>\n",
       "      <th>0</th>\n",
       "      <td>14.389425</td>\n",
       "      <td>11.808563</td>\n",
       "      <td>0</td>\n",
       "      <td>1</td>\n",
       "      <td>NaN</td>\n",
       "      <td>NaN</td>\n",
       "      <td>NaN</td>\n",
       "      <td>NaN</td>\n",
       "      <td>NaN</td>\n",
       "      <td>NaN</td>\n",
       "      <td>...</td>\n",
       "      <td>9.604475</td>\n",
       "      <td>52.719904</td>\n",
       "      <td>294.126082</td>\n",
       "      <td>7.173807</td>\n",
       "      <td>1900000792</td>\n",
       "      <td>25</td>\n",
       "      <td>92.0</td>\n",
       "      <td>103.0</td>\n",
       "      <td>NaN</td>\n",
       "      <td>4.305556</td>\n",
       "    </tr>\n",
       "    <tr>\n",
       "      <th>1</th>\n",
       "      <td>16.809162</td>\n",
       "      <td>13.974216</td>\n",
       "      <td>0</td>\n",
       "      <td>0</td>\n",
       "      <td>27.070798</td>\n",
       "      <td>2.295408</td>\n",
       "      <td>4.590816</td>\n",
       "      <td>27.070798</td>\n",
       "      <td>1.176991</td>\n",
       "      <td>4.006826</td>\n",
       "      <td>...</td>\n",
       "      <td>9.620262</td>\n",
       "      <td>56.206491</td>\n",
       "      <td>359.141884</td>\n",
       "      <td>7.182838</td>\n",
       "      <td>1492</td>\n",
       "      <td>28</td>\n",
       "      <td>106.0</td>\n",
       "      <td>114.0</td>\n",
       "      <td>9.506944</td>\n",
       "      <td>5.319444</td>\n",
       "    </tr>\n",
       "    <tr>\n",
       "      <th>2</th>\n",
       "      <td>20.758034</td>\n",
       "      <td>16.164169</td>\n",
       "      <td>1</td>\n",
       "      <td>1</td>\n",
       "      <td>33.465822</td>\n",
       "      <td>2.578523</td>\n",
       "      <td>5.157047</td>\n",
       "      <td>33.465822</td>\n",
       "      <td>1.287147</td>\n",
       "      <td>4.212471</td>\n",
       "      <td>...</td>\n",
       "      <td>10.513498</td>\n",
       "      <td>61.857420</td>\n",
       "      <td>361.143784</td>\n",
       "      <td>7.850952</td>\n",
       "      <td>1484</td>\n",
       "      <td>51</td>\n",
       "      <td>146.0</td>\n",
       "      <td>180.0</td>\n",
       "      <td>9.333333</td>\n",
       "      <td>5.527778</td>\n",
       "    </tr>\n",
       "    <tr>\n",
       "      <th>3</th>\n",
       "      <td>15.775129</td>\n",
       "      <td>12.193243</td>\n",
       "      <td>0</td>\n",
       "      <td>1</td>\n",
       "      <td>26.569835</td>\n",
       "      <td>2.281042</td>\n",
       "      <td>4.562084</td>\n",
       "      <td>26.569835</td>\n",
       "      <td>1.265230</td>\n",
       "      <td>3.937026</td>\n",
       "      <td>...</td>\n",
       "      <td>9.441849</td>\n",
       "      <td>53.624898</td>\n",
       "      <td>290.199428</td>\n",
       "      <td>6.174456</td>\n",
       "      <td>1158</td>\n",
       "      <td>24</td>\n",
       "      <td>98.0</td>\n",
       "      <td>106.0</td>\n",
       "      <td>6.194444</td>\n",
       "      <td>4.833333</td>\n",
       "    </tr>\n",
       "    <tr>\n",
       "      <th>4</th>\n",
       "      <td>23.095142</td>\n",
       "      <td>19.875288</td>\n",
       "      <td>1</td>\n",
       "      <td>0</td>\n",
       "      <td>36.206475</td>\n",
       "      <td>2.632950</td>\n",
       "      <td>5.121946</td>\n",
       "      <td>36.206475</td>\n",
       "      <td>1.248499</td>\n",
       "      <td>4.326727</td>\n",
       "      <td>...</td>\n",
       "      <td>10.721173</td>\n",
       "      <td>82.182989</td>\n",
       "      <td>435.065569</td>\n",
       "      <td>9.256714</td>\n",
       "      <td>2212</td>\n",
       "      <td>50</td>\n",
       "      <td>164.0</td>\n",
       "      <td>203.0</td>\n",
       "      <td>11.395833</td>\n",
       "      <td>6.097222</td>\n",
       "    </tr>\n",
       "  </tbody>\n",
       "</table>\n",
       "<p>5 rows × 1825 columns</p>\n",
       "</div>"
      ],
      "text/plain": [
       "         ABC      ABCGG  nAcid  nBase    SpAbs_A   SpMax_A  SpDiam_A  \\\n",
       "0  14.389425  11.808563      0      1        NaN       NaN       NaN   \n",
       "1  16.809162  13.974216      0      0  27.070798  2.295408  4.590816   \n",
       "2  20.758034  16.164169      1      1  33.465822  2.578523  5.157047   \n",
       "3  15.775129  12.193243      0      1  26.569835  2.281042  4.562084   \n",
       "4  23.095142  19.875288      1      0  36.206475  2.632950  5.121946   \n",
       "\n",
       "      SpAD_A   SpMAD_A   LogEE_A  ...      SRW10     TSRW10          MW  \\\n",
       "0        NaN       NaN       NaN  ...   9.604475  52.719904  294.126082   \n",
       "1  27.070798  1.176991  4.006826  ...   9.620262  56.206491  359.141884   \n",
       "2  33.465822  1.287147  4.212471  ...  10.513498  61.857420  361.143784   \n",
       "3  26.569835  1.265230  3.937026  ...   9.441849  53.624898  290.199428   \n",
       "4  36.206475  1.248499  4.326727  ...  10.721173  82.182989  435.065569   \n",
       "\n",
       "        AMW       WPath  WPol  Zagreb1  Zagreb2   mZagreb1  mZagreb2  \n",
       "0  7.173807  1900000792    25     92.0    103.0        NaN  4.305556  \n",
       "1  7.182838        1492    28    106.0    114.0   9.506944  5.319444  \n",
       "2  7.850952        1484    51    146.0    180.0   9.333333  5.527778  \n",
       "3  6.174456        1158    24     98.0    106.0   6.194444  4.833333  \n",
       "4  9.256714        2212    50    164.0    203.0  11.395833  6.097222  \n",
       "\n",
       "[5 rows x 1825 columns]"
      ]
     },
     "execution_count": 27,
     "metadata": {},
     "output_type": "execute_result"
    }
   ],
   "source": [
    "coerce_to_numeric(bbbp_descriptors_df, bbbp_descriptors_df.columns)\n",
    "bbbp_descriptors_df.head()"
   ]
  },
  {
   "cell_type": "code",
   "execution_count": 28,
   "metadata": {},
   "outputs": [
    {
     "data": {
      "text/html": [
       "<div>\n",
       "<style scoped>\n",
       "    .dataframe tbody tr th:only-of-type {\n",
       "        vertical-align: middle;\n",
       "    }\n",
       "\n",
       "    .dataframe tbody tr th {\n",
       "        vertical-align: top;\n",
       "    }\n",
       "\n",
       "    .dataframe thead th {\n",
       "        text-align: right;\n",
       "    }\n",
       "</style>\n",
       "<table border=\"1\" class=\"dataframe\">\n",
       "  <thead>\n",
       "    <tr style=\"text-align: right;\">\n",
       "      <th></th>\n",
       "      <th>ABC</th>\n",
       "      <th>ABCGG</th>\n",
       "      <th>nAcid</th>\n",
       "      <th>nBase</th>\n",
       "      <th>SpAbs_A</th>\n",
       "      <th>SpMax_A</th>\n",
       "      <th>SpDiam_A</th>\n",
       "      <th>SpAD_A</th>\n",
       "      <th>SpMAD_A</th>\n",
       "      <th>LogEE_A</th>\n",
       "      <th>...</th>\n",
       "      <th>SRW10</th>\n",
       "      <th>TSRW10</th>\n",
       "      <th>MW</th>\n",
       "      <th>AMW</th>\n",
       "      <th>WPath</th>\n",
       "      <th>WPol</th>\n",
       "      <th>Zagreb1</th>\n",
       "      <th>Zagreb2</th>\n",
       "      <th>mZagreb1</th>\n",
       "      <th>mZagreb2</th>\n",
       "    </tr>\n",
       "  </thead>\n",
       "  <tbody>\n",
       "    <tr>\n",
       "      <th>0</th>\n",
       "      <td>14.389425</td>\n",
       "      <td>11.808563</td>\n",
       "      <td>0</td>\n",
       "      <td>1</td>\n",
       "      <td>0.000000</td>\n",
       "      <td>0.000000</td>\n",
       "      <td>0.000000</td>\n",
       "      <td>0.000000</td>\n",
       "      <td>0.000000</td>\n",
       "      <td>0.000000</td>\n",
       "      <td>...</td>\n",
       "      <td>9.604475</td>\n",
       "      <td>52.719904</td>\n",
       "      <td>294.126082</td>\n",
       "      <td>7.173807</td>\n",
       "      <td>1900000792</td>\n",
       "      <td>25</td>\n",
       "      <td>92.0</td>\n",
       "      <td>103.0</td>\n",
       "      <td>0.000000</td>\n",
       "      <td>4.305556</td>\n",
       "    </tr>\n",
       "    <tr>\n",
       "      <th>1</th>\n",
       "      <td>16.809162</td>\n",
       "      <td>13.974216</td>\n",
       "      <td>0</td>\n",
       "      <td>0</td>\n",
       "      <td>27.070798</td>\n",
       "      <td>2.295408</td>\n",
       "      <td>4.590816</td>\n",
       "      <td>27.070798</td>\n",
       "      <td>1.176991</td>\n",
       "      <td>4.006826</td>\n",
       "      <td>...</td>\n",
       "      <td>9.620262</td>\n",
       "      <td>56.206491</td>\n",
       "      <td>359.141884</td>\n",
       "      <td>7.182838</td>\n",
       "      <td>1492</td>\n",
       "      <td>28</td>\n",
       "      <td>106.0</td>\n",
       "      <td>114.0</td>\n",
       "      <td>9.506944</td>\n",
       "      <td>5.319444</td>\n",
       "    </tr>\n",
       "    <tr>\n",
       "      <th>2</th>\n",
       "      <td>20.758034</td>\n",
       "      <td>16.164169</td>\n",
       "      <td>1</td>\n",
       "      <td>1</td>\n",
       "      <td>33.465822</td>\n",
       "      <td>2.578523</td>\n",
       "      <td>5.157047</td>\n",
       "      <td>33.465822</td>\n",
       "      <td>1.287147</td>\n",
       "      <td>4.212471</td>\n",
       "      <td>...</td>\n",
       "      <td>10.513498</td>\n",
       "      <td>61.857420</td>\n",
       "      <td>361.143784</td>\n",
       "      <td>7.850952</td>\n",
       "      <td>1484</td>\n",
       "      <td>51</td>\n",
       "      <td>146.0</td>\n",
       "      <td>180.0</td>\n",
       "      <td>9.333333</td>\n",
       "      <td>5.527778</td>\n",
       "    </tr>\n",
       "    <tr>\n",
       "      <th>3</th>\n",
       "      <td>15.775129</td>\n",
       "      <td>12.193243</td>\n",
       "      <td>0</td>\n",
       "      <td>1</td>\n",
       "      <td>26.569835</td>\n",
       "      <td>2.281042</td>\n",
       "      <td>4.562084</td>\n",
       "      <td>26.569835</td>\n",
       "      <td>1.265230</td>\n",
       "      <td>3.937026</td>\n",
       "      <td>...</td>\n",
       "      <td>9.441849</td>\n",
       "      <td>53.624898</td>\n",
       "      <td>290.199428</td>\n",
       "      <td>6.174456</td>\n",
       "      <td>1158</td>\n",
       "      <td>24</td>\n",
       "      <td>98.0</td>\n",
       "      <td>106.0</td>\n",
       "      <td>6.194444</td>\n",
       "      <td>4.833333</td>\n",
       "    </tr>\n",
       "    <tr>\n",
       "      <th>4</th>\n",
       "      <td>23.095142</td>\n",
       "      <td>19.875288</td>\n",
       "      <td>1</td>\n",
       "      <td>0</td>\n",
       "      <td>36.206475</td>\n",
       "      <td>2.632950</td>\n",
       "      <td>5.121946</td>\n",
       "      <td>36.206475</td>\n",
       "      <td>1.248499</td>\n",
       "      <td>4.326727</td>\n",
       "      <td>...</td>\n",
       "      <td>10.721173</td>\n",
       "      <td>82.182989</td>\n",
       "      <td>435.065569</td>\n",
       "      <td>9.256714</td>\n",
       "      <td>2212</td>\n",
       "      <td>50</td>\n",
       "      <td>164.0</td>\n",
       "      <td>203.0</td>\n",
       "      <td>11.395833</td>\n",
       "      <td>6.097222</td>\n",
       "    </tr>\n",
       "  </tbody>\n",
       "</table>\n",
       "<p>5 rows × 1825 columns</p>\n",
       "</div>"
      ],
      "text/plain": [
       "         ABC      ABCGG  nAcid  nBase    SpAbs_A   SpMax_A  SpDiam_A  \\\n",
       "0  14.389425  11.808563      0      1   0.000000  0.000000  0.000000   \n",
       "1  16.809162  13.974216      0      0  27.070798  2.295408  4.590816   \n",
       "2  20.758034  16.164169      1      1  33.465822  2.578523  5.157047   \n",
       "3  15.775129  12.193243      0      1  26.569835  2.281042  4.562084   \n",
       "4  23.095142  19.875288      1      0  36.206475  2.632950  5.121946   \n",
       "\n",
       "      SpAD_A   SpMAD_A   LogEE_A  ...      SRW10     TSRW10          MW  \\\n",
       "0   0.000000  0.000000  0.000000  ...   9.604475  52.719904  294.126082   \n",
       "1  27.070798  1.176991  4.006826  ...   9.620262  56.206491  359.141884   \n",
       "2  33.465822  1.287147  4.212471  ...  10.513498  61.857420  361.143784   \n",
       "3  26.569835  1.265230  3.937026  ...   9.441849  53.624898  290.199428   \n",
       "4  36.206475  1.248499  4.326727  ...  10.721173  82.182989  435.065569   \n",
       "\n",
       "        AMW       WPath  WPol  Zagreb1  Zagreb2   mZagreb1  mZagreb2  \n",
       "0  7.173807  1900000792    25     92.0    103.0   0.000000  4.305556  \n",
       "1  7.182838        1492    28    106.0    114.0   9.506944  5.319444  \n",
       "2  7.850952        1484    51    146.0    180.0   9.333333  5.527778  \n",
       "3  6.174456        1158    24     98.0    106.0   6.194444  4.833333  \n",
       "4  9.256714        2212    50    164.0    203.0  11.395833  6.097222  \n",
       "\n",
       "[5 rows x 1825 columns]"
      ]
     },
     "execution_count": 28,
     "metadata": {},
     "output_type": "execute_result"
    }
   ],
   "source": [
    "bbbp_descriptors_df = bbbp_descriptors_df.fillna(0)\n",
    "bbbp_descriptors_df.head()"
   ]
  },
  {
   "cell_type": "markdown",
   "metadata": {},
   "source": [
    "# Lets do Scaling and Principle Component Analysis"
   ]
  },
  {
   "cell_type": "code",
   "execution_count": 31,
   "metadata": {},
   "outputs": [],
   "source": [
    "from sklearn.decomposition import KernelPCA\n",
    "from sklearn.preprocessing import StandardScaler\n",
    "from sklearn.svm import SVC\n",
    "from sklearn.model_selection import GridSearchCV\n",
    "from sklearn.utils import class_weight\n",
    "from sklearn.metrics import roc_curve, auc, roc_auc_score, f1_score\n",
    "from sklearn.model_selection import train_test_split\n",
    "from sklearn.calibration import CalibratedClassifierCV\n",
    "import pickle\n",
    "from keras.layers import Dense, Activation, Dropout, BatchNormalization, Input\n",
    "from keras.models import Sequential, Model\n",
    "from keras import optimizers, regularizers, initializers\n",
    "from keras.callbacks import ModelCheckpoint, Callback\n",
    "from keras import backend as K\n",
    "import tensorflow as tf\n",
    "from xgboost import XGBClassifier\n",
    "import matplotlib.pyplot as plt\n",
    "import seaborn as sns\n",
    "import warnings"
   ]
  },
  {
   "cell_type": "code",
   "execution_count": 32,
   "metadata": {},
   "outputs": [],
   "source": [
    "bbbp_scaler1 = StandardScaler()\n",
    "bbbp_scaler1.fit(bbbp_descriptors_df.values)\n",
    "bbbp_descriptors_df = pd.DataFrame(bbbp_scaler1.transform(bbbp_descriptors_df.values),\n",
    "                                   columns=bbbp_descriptors_df.columns)"
   ]
  },
  {
   "cell_type": "code",
   "execution_count": 33,
   "metadata": {},
   "outputs": [],
   "source": [
    "NCA1 = 100\n",
    "NCA2 = 50\n",
    "DROPRATE = 0.2\n",
    "EP = 20\n",
    "BATCH_SIZE = 128\n",
    "VAL_RATIO = 0.1\n",
    "TEST_RATIO = 0.1"
   ]
  },
  {
   "cell_type": "code",
   "execution_count": 37,
   "metadata": {},
   "outputs": [],
   "source": [
    "nca = NCA1\n",
    "cn = ['col'+str(x) for x in range(nca)]"
   ]
  },
  {
   "cell_type": "code",
   "execution_count": 38,
   "metadata": {},
   "outputs": [
    {
     "name": "stdout",
     "output_type": "stream",
     "text": [
      "(2039, 100)\n"
     ]
    },
    {
     "data": {
      "text/html": [
       "<div>\n",
       "<style scoped>\n",
       "    .dataframe tbody tr th:only-of-type {\n",
       "        vertical-align: middle;\n",
       "    }\n",
       "\n",
       "    .dataframe tbody tr th {\n",
       "        vertical-align: top;\n",
       "    }\n",
       "\n",
       "    .dataframe thead th {\n",
       "        text-align: right;\n",
       "    }\n",
       "</style>\n",
       "<table border=\"1\" class=\"dataframe\">\n",
       "  <thead>\n",
       "    <tr style=\"text-align: right;\">\n",
       "      <th></th>\n",
       "      <th>col0</th>\n",
       "      <th>col1</th>\n",
       "      <th>col2</th>\n",
       "      <th>col3</th>\n",
       "      <th>col4</th>\n",
       "      <th>col5</th>\n",
       "      <th>col6</th>\n",
       "      <th>col7</th>\n",
       "      <th>col8</th>\n",
       "      <th>col9</th>\n",
       "      <th>...</th>\n",
       "      <th>col90</th>\n",
       "      <th>col91</th>\n",
       "      <th>col92</th>\n",
       "      <th>col93</th>\n",
       "      <th>col94</th>\n",
       "      <th>col95</th>\n",
       "      <th>col96</th>\n",
       "      <th>col97</th>\n",
       "      <th>col98</th>\n",
       "      <th>col99</th>\n",
       "    </tr>\n",
       "  </thead>\n",
       "  <tbody>\n",
       "    <tr>\n",
       "      <th>0</th>\n",
       "      <td>0.111545</td>\n",
       "      <td>0.392873</td>\n",
       "      <td>-0.003267</td>\n",
       "      <td>-0.267306</td>\n",
       "      <td>0.231641</td>\n",
       "      <td>0.444553</td>\n",
       "      <td>-0.071575</td>\n",
       "      <td>0.110802</td>\n",
       "      <td>0.047952</td>\n",
       "      <td>0.160705</td>\n",
       "      <td>...</td>\n",
       "      <td>-0.025859</td>\n",
       "      <td>-0.018511</td>\n",
       "      <td>0.000904</td>\n",
       "      <td>-0.004893</td>\n",
       "      <td>0.036374</td>\n",
       "      <td>0.004525</td>\n",
       "      <td>-0.021115</td>\n",
       "      <td>0.004158</td>\n",
       "      <td>0.025874</td>\n",
       "      <td>-0.019096</td>\n",
       "    </tr>\n",
       "    <tr>\n",
       "      <th>1</th>\n",
       "      <td>-0.203233</td>\n",
       "      <td>-0.044515</td>\n",
       "      <td>0.076816</td>\n",
       "      <td>-0.029671</td>\n",
       "      <td>-0.210262</td>\n",
       "      <td>0.099158</td>\n",
       "      <td>0.029858</td>\n",
       "      <td>-0.013679</td>\n",
       "      <td>0.007349</td>\n",
       "      <td>-0.064774</td>\n",
       "      <td>...</td>\n",
       "      <td>-0.004137</td>\n",
       "      <td>0.017204</td>\n",
       "      <td>0.055856</td>\n",
       "      <td>0.005271</td>\n",
       "      <td>0.017609</td>\n",
       "      <td>-0.027526</td>\n",
       "      <td>-0.016759</td>\n",
       "      <td>-0.036706</td>\n",
       "      <td>-0.062104</td>\n",
       "      <td>-0.012252</td>\n",
       "    </tr>\n",
       "    <tr>\n",
       "      <th>2</th>\n",
       "      <td>-0.025130</td>\n",
       "      <td>-0.191458</td>\n",
       "      <td>-0.203020</td>\n",
       "      <td>0.068156</td>\n",
       "      <td>0.073111</td>\n",
       "      <td>-0.027518</td>\n",
       "      <td>-0.036239</td>\n",
       "      <td>0.146615</td>\n",
       "      <td>0.232318</td>\n",
       "      <td>-0.094930</td>\n",
       "      <td>...</td>\n",
       "      <td>-0.007180</td>\n",
       "      <td>0.028021</td>\n",
       "      <td>-0.020768</td>\n",
       "      <td>0.010863</td>\n",
       "      <td>0.068034</td>\n",
       "      <td>0.010748</td>\n",
       "      <td>0.004291</td>\n",
       "      <td>0.022947</td>\n",
       "      <td>-0.026410</td>\n",
       "      <td>0.000016</td>\n",
       "    </tr>\n",
       "    <tr>\n",
       "      <th>3</th>\n",
       "      <td>-0.359887</td>\n",
       "      <td>-0.032916</td>\n",
       "      <td>0.080973</td>\n",
       "      <td>-0.096383</td>\n",
       "      <td>-0.261437</td>\n",
       "      <td>0.124236</td>\n",
       "      <td>-0.007101</td>\n",
       "      <td>-0.017018</td>\n",
       "      <td>0.034251</td>\n",
       "      <td>0.041853</td>\n",
       "      <td>...</td>\n",
       "      <td>0.006608</td>\n",
       "      <td>0.021682</td>\n",
       "      <td>0.016685</td>\n",
       "      <td>0.010577</td>\n",
       "      <td>0.003553</td>\n",
       "      <td>-0.004392</td>\n",
       "      <td>0.000823</td>\n",
       "      <td>0.023478</td>\n",
       "      <td>-0.004957</td>\n",
       "      <td>0.013025</td>\n",
       "    </tr>\n",
       "    <tr>\n",
       "      <th>4</th>\n",
       "      <td>0.191021</td>\n",
       "      <td>-0.175647</td>\n",
       "      <td>-0.227526</td>\n",
       "      <td>0.267293</td>\n",
       "      <td>0.041106</td>\n",
       "      <td>0.061673</td>\n",
       "      <td>-0.242964</td>\n",
       "      <td>-0.157042</td>\n",
       "      <td>-0.121486</td>\n",
       "      <td>-0.159706</td>\n",
       "      <td>...</td>\n",
       "      <td>0.034672</td>\n",
       "      <td>0.024127</td>\n",
       "      <td>0.017033</td>\n",
       "      <td>0.010355</td>\n",
       "      <td>0.001940</td>\n",
       "      <td>0.030673</td>\n",
       "      <td>-0.028420</td>\n",
       "      <td>0.027568</td>\n",
       "      <td>0.015075</td>\n",
       "      <td>0.003421</td>\n",
       "    </tr>\n",
       "  </tbody>\n",
       "</table>\n",
       "<p>5 rows × 100 columns</p>\n",
       "</div>"
      ],
      "text/plain": [
       "       col0      col1      col2      col3      col4      col5      col6  \\\n",
       "0  0.111545  0.392873 -0.003267 -0.267306  0.231641  0.444553 -0.071575   \n",
       "1 -0.203233 -0.044515  0.076816 -0.029671 -0.210262  0.099158  0.029858   \n",
       "2 -0.025130 -0.191458 -0.203020  0.068156  0.073111 -0.027518 -0.036239   \n",
       "3 -0.359887 -0.032916  0.080973 -0.096383 -0.261437  0.124236 -0.007101   \n",
       "4  0.191021 -0.175647 -0.227526  0.267293  0.041106  0.061673 -0.242964   \n",
       "\n",
       "       col7      col8      col9  ...     col90     col91     col92     col93  \\\n",
       "0  0.110802  0.047952  0.160705  ... -0.025859 -0.018511  0.000904 -0.004893   \n",
       "1 -0.013679  0.007349 -0.064774  ... -0.004137  0.017204  0.055856  0.005271   \n",
       "2  0.146615  0.232318 -0.094930  ... -0.007180  0.028021 -0.020768  0.010863   \n",
       "3 -0.017018  0.034251  0.041853  ...  0.006608  0.021682  0.016685  0.010577   \n",
       "4 -0.157042 -0.121486 -0.159706  ...  0.034672  0.024127  0.017033  0.010355   \n",
       "\n",
       "      col94     col95     col96     col97     col98     col99  \n",
       "0  0.036374  0.004525 -0.021115  0.004158  0.025874 -0.019096  \n",
       "1  0.017609 -0.027526 -0.016759 -0.036706 -0.062104 -0.012252  \n",
       "2  0.068034  0.010748  0.004291  0.022947 -0.026410  0.000016  \n",
       "3  0.003553 -0.004392  0.000823  0.023478 -0.004957  0.013025  \n",
       "4  0.001940  0.030673 -0.028420  0.027568  0.015075  0.003421  \n",
       "\n",
       "[5 rows x 100 columns]"
      ]
     },
     "execution_count": 38,
     "metadata": {},
     "output_type": "execute_result"
    }
   ],
   "source": [
    "bbbp_transformer1 = KernelPCA(n_components=nca, kernel='rbf', n_jobs=-1)\n",
    "bbbp_transformer1.fit(bbbp_descriptors_df.values)\n",
    "bbbp_descriptors_df = pd.DataFrame(bbbp_transformer1.transform(bbbp_descriptors_df.values),\n",
    "                                   columns=cn)\n",
    "print(bbbp_descriptors_df.shape)\n",
    "bbbp_descriptors_df.head()"
   ]
  },
  {
   "cell_type": "code",
   "execution_count": 40,
   "metadata": {},
   "outputs": [],
   "source": [
    "X_train, X_test, y_train, y_test = train_test_split(bbbp_descriptors_df.values, bbbp_df['p_np'].values.flatten(), \n",
    "                                                    test_size=TEST_RATIO, \n",
    "                                                    random_state=42,stratify=bbbp_df['p_np'].values.flatten())"
   ]
  },
  {
   "cell_type": "code",
   "execution_count": 41,
   "metadata": {},
   "outputs": [],
   "source": [
    "X_train, X_valid, y_train, y_valid = train_test_split(X_train, y_train, \n",
    "                                                      test_size=VAL_RATIO, \n",
    "                                                      random_state=42,stratify=y_train)"
   ]
  },
  {
   "cell_type": "code",
   "execution_count": 42,
   "metadata": {},
   "outputs": [],
   "source": [
    "def Find_Optimal_Cutoff(target, predicted):\n",
    "    fpr, tpr, threshold = roc_curve(target, predicted)\n",
    "    i = np.arange(len(tpr)) \n",
    "    roc = pd.DataFrame({'tf' : pd.Series(tpr-(1-fpr), index=i), 'threshold' : pd.Series(threshold, index=i)})\n",
    "    roc_t = roc.iloc[(roc.tf-0).abs().argsort()[:1]]\n",
    "\n",
    "    return list(roc_t['threshold']) "
   ]
  },
  {
   "cell_type": "code",
   "execution_count": 43,
   "metadata": {},
   "outputs": [],
   "source": [
    "def Find_Optimal_threshold(target, predicted):\n",
    "    target = target.reshape(-1,1)\n",
    "    predicted = predicted.reshape(-1,1)\n",
    "    \n",
    "    rng = np.arange(0.0, 0.99, 0.001)\n",
    "    f1s = np.zeros((rng.shape[0],predicted.shape[1]))\n",
    "    for i in range(0,predicted.shape[1]):\n",
    "        for j,t in enumerate(rng):\n",
    "            p = np.array((predicted[:,i])>t, dtype=np.int8)\n",
    "            scoref1 = f1_score(target[:,i], p, average='binary')\n",
    "            f1s[j,i] = scoref1\n",
    "            \n",
    "    threshold = np.empty(predicted.shape[1])\n",
    "    for i in range(predicted.shape[1]):\n",
    "        threshold[i] = rng[int(np.where(f1s[:,i] == np.max(f1s[:,i]))[0][0])]\n",
    "        \n",
    "    return threshold"
   ]
  },
  {
   "cell_type": "code",
   "execution_count": 44,
   "metadata": {},
   "outputs": [],
   "source": [
    "parameters = {'kernel':['sigmoid', 'rbf'], 'C':[1,0.5], 'gamma':[1/nca,1/np.sqrt(nca)],'probability':[True]}\n",
    "bbbp_svc = GridSearchCV(SVC(random_state=23,class_weight='balanced'), parameters, cv=5, scoring='roc_auc',n_jobs=-1)"
   ]
  },
  {
   "cell_type": "code",
   "execution_count": 45,
   "metadata": {},
   "outputs": [],
   "source": [
    "result = bbbp_svc.fit(X_train, y_train)"
   ]
  },
  {
   "cell_type": "code",
   "execution_count": 46,
   "metadata": {},
   "outputs": [
    {
     "name": "stdout",
     "output_type": "stream",
     "text": [
      "SVC(C=1, class_weight='balanced', gamma=0.1, probability=True, random_state=23)\n"
     ]
    }
   ],
   "source": [
    "print(result.best_estimator_)"
   ]
  },
  {
   "cell_type": "code",
   "execution_count": 47,
   "metadata": {},
   "outputs": [
    {
     "name": "stdout",
     "output_type": "stream",
     "text": [
      "0.8719306019701276\n"
     ]
    }
   ],
   "source": [
    "print(result.best_score_)"
   ]
  },
  {
   "cell_type": "code",
   "execution_count": 48,
   "metadata": {},
   "outputs": [],
   "source": [
    "pred = bbbp_svc.predict_proba(X_valid)"
   ]
  },
  {
   "cell_type": "code",
   "execution_count": 49,
   "metadata": {},
   "outputs": [
    {
     "data": {
      "text/plain": [
       "CalibratedClassifierCV(base_estimator=GridSearchCV(cv=5,\n",
       "                                                   estimator=SVC(class_weight='balanced',\n",
       "                                                                 random_state=23),\n",
       "                                                   n_jobs=-1,\n",
       "                                                   param_grid={'C': [1, 0.5],\n",
       "                                                               'gamma': [0.01,\n",
       "                                                                         0.1],\n",
       "                                                               'kernel': ['sigmoid',\n",
       "                                                                          'rbf'],\n",
       "                                                               'probability': [True]},\n",
       "                                                   scoring='roc_auc'),\n",
       "                       cv='prefit')"
      ]
     },
     "execution_count": 49,
     "metadata": {},
     "output_type": "execute_result"
    }
   ],
   "source": [
    "bbbp_svc_calib = CalibratedClassifierCV(bbbp_svc, cv='prefit')\n",
    "bbbp_svc_calib.fit(X_valid, y_valid)"
   ]
  },
  {
   "cell_type": "code",
   "execution_count": 50,
   "metadata": {},
   "outputs": [],
   "source": [
    "pred = bbbp_svc_calib.predict_proba(X_valid)\n",
    "pred = pred[:,1]\n",
    "pred_svc_t = np.copy(pred)"
   ]
  },
  {
   "cell_type": "code",
   "execution_count": 51,
   "metadata": {},
   "outputs": [
    {
     "name": "stdout",
     "output_type": "stream",
     "text": [
      "[0.383]\n"
     ]
    }
   ],
   "source": [
    "threshold = Find_Optimal_threshold(y_valid, pred)\n",
    "print(threshold)"
   ]
  },
  {
   "cell_type": "code",
   "execution_count": 52,
   "metadata": {},
   "outputs": [
    {
     "data": {
      "text/plain": [
       "0.9102167182662538"
      ]
     },
     "execution_count": 52,
     "metadata": {},
     "output_type": "execute_result"
    }
   ],
   "source": [
    "pred = bbbp_svc_calib.predict(X_test)\n",
    "f1_score(y_test,pred)"
   ]
  },
  {
   "cell_type": "code",
   "execution_count": 53,
   "metadata": {},
   "outputs": [
    {
     "data": {
      "text/plain": [
       "0.9154647435897436"
      ]
     },
     "execution_count": 53,
     "metadata": {},
     "output_type": "execute_result"
    }
   ],
   "source": [
    "pred = bbbp_svc_calib.predict_proba(X_test)\n",
    "roc_auc_score(y_test,pred[:,1])"
   ]
  },
  {
   "cell_type": "code",
   "execution_count": 54,
   "metadata": {},
   "outputs": [
    {
     "name": "stdout",
     "output_type": "stream",
     "text": [
      "0.915151515151515\n"
     ]
    }
   ],
   "source": [
    "pred = pred[:,1]\n",
    "pred_svc = np.copy(pred)\n",
    "pred[pred<=threshold] = 0\n",
    "pred[pred>threshold] = 1\n",
    "svc_score = f1_score(y_test,pred)\n",
    "print(svc_score)"
   ]
  },
  {
   "cell_type": "code",
   "execution_count": 55,
   "metadata": {},
   "outputs": [
    {
     "name": "stdout",
     "output_type": "stream",
     "text": [
      "[0]\n",
      "[[0.44247933 0.55752067]]\n",
      "1\n"
     ]
    }
   ],
   "source": [
    "y = np.array(bbbp_descriptors_df.loc[23].values).reshape(1, -1)\n",
    "result = bbbp_svc.predict(y)\n",
    "prob = bbbp_svc.predict_proba(y)\n",
    "print(result)\n",
    "print(prob)\n",
    "print(int(prob[:,1]>threshold))"
   ]
  },
  {
   "cell_type": "markdown",
   "metadata": {},
   "source": [
    "# Neural Network Model"
   ]
  },
  {
   "cell_type": "code",
   "execution_count": 56,
   "metadata": {},
   "outputs": [],
   "source": [
    "bbbp_model = Sequential()\n",
    "bbbp_model.add(Dense(128, input_dim=bbbp_descriptors_df.shape[1], \n",
    "                     kernel_initializer='he_uniform'))\n",
    "bbbp_model.add(BatchNormalization())\n",
    "bbbp_model.add(Activation('tanh'))\n",
    "bbbp_model.add(Dropout(rate=DROPRATE))\n",
    "bbbp_model.add(Dense(64,kernel_initializer='he_uniform'))\n",
    "bbbp_model.add(BatchNormalization())\n",
    "bbbp_model.add(Activation('tanh'))\n",
    "bbbp_model.add(Dropout(rate=DROPRATE))\n",
    "bbbp_model.add(Dense(32,kernel_initializer='he_uniform'))\n",
    "bbbp_model.add(BatchNormalization())\n",
    "bbbp_model.add(Activation('tanh'))\n",
    "bbbp_model.add(Dropout(rate=DROPRATE))\n",
    "bbbp_model.add(Dense(1,kernel_initializer='he_uniform',activation='sigmoid'))"
   ]
  },
  {
   "cell_type": "code",
   "execution_count": 57,
   "metadata": {},
   "outputs": [],
   "source": [
    "bbbp_model.compile(loss='binary_crossentropy', optimizer='adam',metrics=['accuracy'])"
   ]
  },
  {
   "cell_type": "code",
   "execution_count": 58,
   "metadata": {},
   "outputs": [],
   "source": [
    "checkpoint = ModelCheckpoint('bbbp_model.h5', monitor='val_loss', verbose=1, save_best_only=True, save_weights_only=True, mode='min')"
   ]
  },
  {
   "cell_type": "code",
   "execution_count": 59,
   "metadata": {},
   "outputs": [],
   "source": [
    "unique_classes = np.unique(bbbp_df['p_np'].values.flatten())\n",
    "class_weights = class_weight.compute_class_weight('balanced',unique_classes,\n",
    "                                                  bbbp_df['p_np'].values.flatten())\n",
    "class_weights = {unique_classes[0]:class_weights[0],unique_classes[1]:class_weights[1]}"
   ]
  },
  {
   "cell_type": "code",
   "execution_count": 60,
   "metadata": {},
   "outputs": [
    {
     "name": "stdout",
     "output_type": "stream",
     "text": [
      "Epoch 1/20\n",
      " 1/13 [=>............................] - ETA: 22s - loss: 0.7719 - accuracy: 0.5391\n",
      "Epoch 1: val_loss improved from inf to 0.58582, saving model to bbbp_model.h5\n",
      "13/13 [==============================] - 2s 41ms/step - loss: 0.6636 - accuracy: 0.5966 - val_loss: 0.5858 - val_accuracy: 0.7337\n",
      "Epoch 2/20\n",
      "10/13 [======================>.......] - ETA: 0s - loss: 0.5424 - accuracy: 0.6930\n",
      "Epoch 2: val_loss improved from 0.58582 to 0.53519, saving model to bbbp_model.h5\n",
      "13/13 [==============================] - 0s 12ms/step - loss: 0.5214 - accuracy: 0.7020 - val_loss: 0.5352 - val_accuracy: 0.7554\n",
      "Epoch 3/20\n",
      "10/13 [======================>.......] - ETA: 0s - loss: 0.4575 - accuracy: 0.7484\n",
      "Epoch 3: val_loss improved from 0.53519 to 0.49317, saving model to bbbp_model.h5\n",
      "13/13 [==============================] - 0s 12ms/step - loss: 0.4567 - accuracy: 0.7529 - val_loss: 0.4932 - val_accuracy: 0.7935\n",
      "Epoch 4/20\n",
      " 7/13 [===============>..............] - ETA: 0s - loss: 0.4640 - accuracy: 0.7634\n",
      "Epoch 4: val_loss improved from 0.49317 to 0.46246, saving model to bbbp_model.h5\n",
      "13/13 [==============================] - 0s 14ms/step - loss: 0.4451 - accuracy: 0.7595 - val_loss: 0.4625 - val_accuracy: 0.8261\n",
      "Epoch 5/20\n",
      "11/13 [========================>.....] - ETA: 0s - loss: 0.4343 - accuracy: 0.7727\n",
      "Epoch 5: val_loss improved from 0.46246 to 0.43391, saving model to bbbp_model.h5\n",
      "13/13 [==============================] - 0s 10ms/step - loss: 0.4284 - accuracy: 0.7741 - val_loss: 0.4339 - val_accuracy: 0.8478\n",
      "Epoch 6/20\n",
      "12/13 [==========================>...] - ETA: 0s - loss: 0.3943 - accuracy: 0.7956\n",
      "Epoch 6: val_loss improved from 0.43391 to 0.41338, saving model to bbbp_model.h5\n",
      "13/13 [==============================] - 0s 11ms/step - loss: 0.3925 - accuracy: 0.7971 - val_loss: 0.4134 - val_accuracy: 0.8533\n",
      "Epoch 7/20\n",
      "11/13 [========================>.....] - ETA: 0s - loss: 0.3775 - accuracy: 0.8288\n",
      "Epoch 7: val_loss improved from 0.41338 to 0.39382, saving model to bbbp_model.h5\n",
      "13/13 [==============================] - 0s 11ms/step - loss: 0.3825 - accuracy: 0.8262 - val_loss: 0.3938 - val_accuracy: 0.8587\n",
      "Epoch 8/20\n",
      "13/13 [==============================] - ETA: 0s - loss: 0.3812 - accuracy: 0.8225\n",
      "Epoch 8: val_loss improved from 0.39382 to 0.38569, saving model to bbbp_model.h5\n",
      "13/13 [==============================] - 0s 9ms/step - loss: 0.3812 - accuracy: 0.8225 - val_loss: 0.3857 - val_accuracy: 0.8587\n",
      "Epoch 9/20\n",
      "12/13 [==========================>...] - ETA: 0s - loss: 0.3646 - accuracy: 0.8281\n",
      "Epoch 9: val_loss improved from 0.38569 to 0.37758, saving model to bbbp_model.h5\n",
      "13/13 [==============================] - 0s 9ms/step - loss: 0.3626 - accuracy: 0.8328 - val_loss: 0.3776 - val_accuracy: 0.8533\n",
      "Epoch 10/20\n",
      "13/13 [==============================] - ETA: 0s - loss: 0.3586 - accuracy: 0.8304\n",
      "Epoch 10: val_loss improved from 0.37758 to 0.37118, saving model to bbbp_model.h5\n",
      "13/13 [==============================] - 0s 9ms/step - loss: 0.3586 - accuracy: 0.8304 - val_loss: 0.3712 - val_accuracy: 0.8641\n",
      "Epoch 11/20\n",
      "12/13 [==========================>...] - ETA: 0s - loss: 0.3575 - accuracy: 0.8301\n",
      "Epoch 11: val_loss improved from 0.37118 to 0.36148, saving model to bbbp_model.h5\n",
      "13/13 [==============================] - 0s 10ms/step - loss: 0.3535 - accuracy: 0.8310 - val_loss: 0.3615 - val_accuracy: 0.8587\n",
      "Epoch 12/20\n",
      "11/13 [========================>.....] - ETA: 0s - loss: 0.3459 - accuracy: 0.8594\n",
      "Epoch 12: val_loss did not improve from 0.36148\n",
      "13/13 [==============================] - 0s 8ms/step - loss: 0.3339 - accuracy: 0.8625 - val_loss: 0.3638 - val_accuracy: 0.8587\n",
      "Epoch 13/20\n",
      "13/13 [==============================] - ETA: 0s - loss: 0.3215 - accuracy: 0.8413\n",
      "Epoch 13: val_loss improved from 0.36148 to 0.35691, saving model to bbbp_model.h5\n",
      "13/13 [==============================] - 0s 9ms/step - loss: 0.3215 - accuracy: 0.8413 - val_loss: 0.3569 - val_accuracy: 0.8696\n",
      "Epoch 14/20\n",
      "13/13 [==============================] - ETA: 0s - loss: 0.3239 - accuracy: 0.8443\n",
      "Epoch 14: val_loss improved from 0.35691 to 0.35217, saving model to bbbp_model.h5\n",
      "13/13 [==============================] - 0s 9ms/step - loss: 0.3239 - accuracy: 0.8443 - val_loss: 0.3522 - val_accuracy: 0.8696\n",
      "Epoch 15/20\n",
      "11/13 [========================>.....] - ETA: 0s - loss: 0.3195 - accuracy: 0.8601\n",
      "Epoch 15: val_loss improved from 0.35217 to 0.35090, saving model to bbbp_model.h5\n",
      "13/13 [==============================] - 0s 10ms/step - loss: 0.3154 - accuracy: 0.8613 - val_loss: 0.3509 - val_accuracy: 0.8533\n",
      "Epoch 16/20\n",
      "12/13 [==========================>...] - ETA: 0s - loss: 0.2989 - accuracy: 0.8698\n",
      "Epoch 16: val_loss improved from 0.35090 to 0.34860, saving model to bbbp_model.h5\n",
      "13/13 [==============================] - 0s 10ms/step - loss: 0.3003 - accuracy: 0.8680 - val_loss: 0.3486 - val_accuracy: 0.8641\n",
      "Epoch 17/20\n",
      " 1/13 [=>............................] - ETA: 0s - loss: 0.2948 - accuracy: 0.8516\n",
      "Epoch 17: val_loss did not improve from 0.34860\n",
      "13/13 [==============================] - 0s 6ms/step - loss: 0.3003 - accuracy: 0.8571 - val_loss: 0.3537 - val_accuracy: 0.8533\n",
      "Epoch 18/20\n",
      " 1/13 [=>............................] - ETA: 0s - loss: 0.2723 - accuracy: 0.8516\n",
      "Epoch 18: val_loss did not improve from 0.34860\n",
      "13/13 [==============================] - 0s 6ms/step - loss: 0.2959 - accuracy: 0.8667 - val_loss: 0.3524 - val_accuracy: 0.8587\n",
      "Epoch 19/20\n",
      " 1/13 [=>............................] - ETA: 0s - loss: 0.2190 - accuracy: 0.9062\n",
      "Epoch 19: val_loss improved from 0.34860 to 0.34636, saving model to bbbp_model.h5\n",
      "13/13 [==============================] - 0s 8ms/step - loss: 0.2855 - accuracy: 0.8649 - val_loss: 0.3464 - val_accuracy: 0.8750\n",
      "Epoch 20/20\n",
      " 1/13 [=>............................] - ETA: 0s - loss: 0.3882 - accuracy: 0.8750\n",
      "Epoch 20: val_loss did not improve from 0.34636\n",
      "13/13 [==============================] - 0s 6ms/step - loss: 0.2959 - accuracy: 0.8752 - val_loss: 0.3534 - val_accuracy: 0.8587\n"
     ]
    }
   ],
   "source": [
    "hist = bbbp_model.fit(X_train, y_train, \n",
    "                      validation_data=(X_valid,y_valid),epochs=EP, batch_size=BATCH_SIZE, \n",
    "                      class_weight=class_weights ,callbacks=[checkpoint])"
   ]
  },
  {
   "cell_type": "code",
   "execution_count": 61,
   "metadata": {},
   "outputs": [
    {
     "data": {
      "text/plain": [
       "[<matplotlib.lines.Line2D at 0x7f7c50825580>]"
      ]
     },
     "execution_count": 61,
     "metadata": {},
     "output_type": "execute_result"
    },
    {
     "data": {
      "image/png": "[encoded data removed]",
      "text/plain": [
       "<Figure size 432x288 with 1 Axes>"
      ]
     },
     "metadata": {
      "image/png": {
       "height": 265,
       "width": 377
      },
      "needs_background": "light"
     },
     "output_type": "display_data"
    }
   ],
   "source": [
    "plt.ylim(0., 1.0)\n",
    "plt.plot(hist.epoch, hist.history[\"loss\"], label=\"Train loss\")\n",
    "plt.plot(hist.epoch, hist.history[\"val_loss\"], label=\"Valid loss\")"
   ]
  },
  {
   "cell_type": "code",
   "execution_count": 62,
   "metadata": {},
   "outputs": [],
   "source": [
    "bbbp_model.load_weights('bbbp_model.h5')"
   ]
  },
  {
   "cell_type": "code",
   "execution_count": 63,
   "metadata": {},
   "outputs": [],
   "source": [
    "pred = bbbp_model.predict(X_valid)\n",
    "pred_nn_t = np.copy(pred)"
   ]
  },
  {
   "cell_type": "code",
   "execution_count": 64,
   "metadata": {},
   "outputs": [
    {
     "name": "stdout",
     "output_type": "stream",
     "text": [
      "[0.227]\n"
     ]
    }
   ],
   "source": [
    "threshold = Find_Optimal_threshold(y_valid, pred)\n",
    "print(threshold)"
   ]
  },
  {
   "cell_type": "code",
   "execution_count": 65,
   "metadata": {},
   "outputs": [
    {
     "data": {
      "text/plain": [
       "0.9026442307692307"
      ]
     },
     "execution_count": 65,
     "metadata": {},
     "output_type": "execute_result"
    }
   ],
   "source": [
    "pred = bbbp_model.predict(X_test)\n",
    "pred_nn = np.copy(pred)\n",
    "roc_auc_score(y_test,pred)"
   ]
  },
  {
   "cell_type": "code",
   "execution_count": 66,
   "metadata": {},
   "outputs": [
    {
     "name": "stdout",
     "output_type": "stream",
     "text": [
      "0.9207317073170732\n"
     ]
    }
   ],
   "source": [
    "pred[pred<=threshold] = 0\n",
    "pred[pred>threshold] = 1\n",
    "nn_score = f1_score(y_test,pred)\n",
    "print(nn_score)"
   ]
  },
  {
   "cell_type": "code",
   "execution_count": 67,
   "metadata": {},
   "outputs": [
    {
     "name": "stdout",
     "output_type": "stream",
     "text": [
      "[[0.21266645]]\n",
      "0\n"
     ]
    }
   ],
   "source": [
    "prob = bbbp_model.predict(y)\n",
    "print(prob)\n",
    "print(int(prob>=threshold))"
   ]
  },
  {
   "cell_type": "markdown",
   "metadata": {},
   "source": [
    "# Gradient Boosting of Keras Model with SVC"
   ]
  },
  {
   "cell_type": "code",
   "execution_count": 68,
   "metadata": {},
   "outputs": [],
   "source": [
    "inp = bbbp_model.input\n",
    "out = bbbp_model.layers[-2].output\n",
    "bbbp_model_gb = Model(inp, out)"
   ]
  },
  {
   "cell_type": "code",
   "execution_count": 69,
   "metadata": {},
   "outputs": [],
   "source": [
    "X_train = bbbp_model_gb.predict(X_train)\n",
    "X_valid = bbbp_model_gb.predict(X_valid)\n",
    "X_test = bbbp_model_gb.predict(X_test)"
   ]
  },
  {
   "cell_type": "code",
   "execution_count": 70,
   "metadata": {},
   "outputs": [],
   "source": [
    "data = np.concatenate((X_train,X_test,X_valid),axis=0)"
   ]
  },
  {
   "cell_type": "code",
   "execution_count": 71,
   "metadata": {},
   "outputs": [],
   "source": [
    "bbbp_scaler2 = StandardScaler()\n",
    "bbbp_scaler2.fit(data)\n",
    "X_train = bbbp_scaler2.transform(X_train)\n",
    "X_valid = bbbp_scaler2.transform(X_valid)\n",
    "X_test = bbbp_scaler2.transform(X_test)"
   ]
  },
  {
   "cell_type": "code",
   "execution_count": 72,
   "metadata": {},
   "outputs": [],
   "source": [
    "data = np.concatenate((X_train,X_test,X_valid),axis=0)"
   ]
  },
  {
   "cell_type": "code",
   "execution_count": 73,
   "metadata": {},
   "outputs": [],
   "source": [
    "nca = NCA2"
   ]
  },
  {
   "cell_type": "code",
   "execution_count": 74,
   "metadata": {},
   "outputs": [],
   "source": [
    "bbbp_transformer2 = KernelPCA(n_components=nca, kernel='rbf', n_jobs=-1)\n",
    "bbbp_transformer2.fit(data)\n",
    "X_train = bbbp_transformer2.transform(X_train)\n",
    "X_valid = bbbp_transformer2.transform(X_valid)\n",
    "X_test = bbbp_transformer2.transform(X_test)"
   ]
  },
  {
   "cell_type": "code",
   "execution_count": 75,
   "metadata": {},
   "outputs": [],
   "source": [
    "nca = X_train.shape[1]\n",
    "parameters = {'kernel':['sigmoid', 'rbf'], 'C':[1,0.5], 'gamma':[1/nca,1/np.sqrt(nca)],'probability':[True]}\n",
    "bbbp_svc_gb = GridSearchCV(SVC(random_state=23,class_weight='balanced'), parameters, cv=5, scoring='roc_auc',n_jobs=-1)"
   ]
  },
  {
   "cell_type": "code",
   "execution_count": 76,
   "metadata": {},
   "outputs": [],
   "source": [
    "result = bbbp_svc_gb.fit(X_train, y_train)"
   ]
  },
  {
   "cell_type": "code",
   "execution_count": 77,
   "metadata": {},
   "outputs": [
    {
     "name": "stdout",
     "output_type": "stream",
     "text": [
      "SVC(C=0.5, class_weight='balanced', gamma=0.02, probability=True,\n",
      "    random_state=23)\n"
     ]
    }
   ],
   "source": [
    "print(result.best_estimator_)"
   ]
  },
  {
   "cell_type": "code",
   "execution_count": 78,
   "metadata": {},
   "outputs": [
    {
     "name": "stdout",
     "output_type": "stream",
     "text": [
      "0.9451653400764073\n"
     ]
    }
   ],
   "source": [
    "print(result.best_score_)"
   ]
  },
  {
   "cell_type": "code",
   "execution_count": 79,
   "metadata": {},
   "outputs": [],
   "source": [
    "pred = bbbp_svc_gb.predict_proba(X_valid)"
   ]
  },
  {
   "cell_type": "code",
   "execution_count": 80,
   "metadata": {},
   "outputs": [
    {
     "data": {
      "text/plain": [
       "CalibratedClassifierCV(base_estimator=GridSearchCV(cv=5,\n",
       "                                                   estimator=SVC(class_weight='balanced',\n",
       "                                                                 random_state=23),\n",
       "                                                   n_jobs=-1,\n",
       "                                                   param_grid={'C': [1, 0.5],\n",
       "                                                               'gamma': [0.02,\n",
       "                                                                         0.1414213562373095],\n",
       "                                                               'kernel': ['sigmoid',\n",
       "                                                                          'rbf'],\n",
       "                                                               'probability': [True]},\n",
       "                                                   scoring='roc_auc'),\n",
       "                       cv='prefit')"
      ]
     },
     "execution_count": 80,
     "metadata": {},
     "output_type": "execute_result"
    }
   ],
   "source": [
    "bbbp_svc_gb_calib = CalibratedClassifierCV(bbbp_svc_gb, cv='prefit')\n",
    "bbbp_svc_gb_calib.fit(X_valid, y_valid)"
   ]
  },
  {
   "cell_type": "code",
   "execution_count": 81,
   "metadata": {},
   "outputs": [],
   "source": [
    "pred = bbbp_svc_gb_calib.predict_proba(X_valid)\n",
    "pred = pred[:,1]\n",
    "pred_svc_gb_t = np.copy(pred)"
   ]
  },
  {
   "cell_type": "code",
   "execution_count": 82,
   "metadata": {},
   "outputs": [
    {
     "name": "stdout",
     "output_type": "stream",
     "text": [
      "[0.294]\n"
     ]
    }
   ],
   "source": [
    "threshold = Find_Optimal_threshold(y_valid, pred)\n",
    "print(threshold)"
   ]
  },
  {
   "cell_type": "code",
   "execution_count": 83,
   "metadata": {},
   "outputs": [
    {
     "data": {
      "text/plain": [
       "0.9226006191950465"
      ]
     },
     "execution_count": 83,
     "metadata": {},
     "output_type": "execute_result"
    }
   ],
   "source": [
    "pred = bbbp_svc_gb_calib.predict(X_test)\n",
    "f1_score(y_test,pred)"
   ]
  },
  {
   "cell_type": "code",
   "execution_count": 84,
   "metadata": {},
   "outputs": [
    {
     "data": {
      "text/plain": [
       "0.9038461538461539"
      ]
     },
     "execution_count": 84,
     "metadata": {},
     "output_type": "execute_result"
    }
   ],
   "source": [
    "pred = bbbp_svc_gb_calib.predict_proba(X_test)\n",
    "roc_auc_score(y_test,pred[:,1])"
   ]
  },
  {
   "cell_type": "code",
   "execution_count": 85,
   "metadata": {},
   "outputs": [
    {
     "name": "stdout",
     "output_type": "stream",
     "text": [
      "0.9221556886227544\n"
     ]
    }
   ],
   "source": [
    "pred = pred[:,1]\n",
    "pred_svc_gb = np.copy(pred)\n",
    "pred[pred<=threshold] = 0\n",
    "pred[pred>threshold] = 1\n",
    "svc_gb_score = f1_score(y_test,pred)\n",
    "print(svc_gb_score)"
   ]
  },
  {
   "cell_type": "code",
   "execution_count": 86,
   "metadata": {},
   "outputs": [
    {
     "name": "stdout",
     "output_type": "stream",
     "text": [
      "[1]\n",
      "[[0.05011165 0.94988835]]\n",
      "1\n"
     ]
    }
   ],
   "source": [
    "y = np.array(X_train[23,:])\n",
    "y = y.reshape(-1, nca)\n",
    "result = bbbp_svc_gb_calib.predict(y)\n",
    "prob = bbbp_svc_gb_calib.predict_proba(y)\n",
    "print(result)\n",
    "print(prob)\n",
    "print(int(prob[:,1]>=threshold))"
   ]
  },
  {
   "cell_type": "markdown",
   "metadata": {},
   "source": [
    "# Gradient Boosting of Keras Model with XGBoost"
   ]
  },
  {
   "cell_type": "code",
   "execution_count": 90,
   "metadata": {},
   "outputs": [],
   "source": [
    "parameters = {'learning_rate':[0.05,0.1,0.15],'n_estimators':[75,100,125], 'max_depth':[3,4,5],\n",
    "               'booster':['gbtree','dart'],'reg_alpha':[0.,0.1,0.05],'reg_lambda':[0.,0.1,0.5,1.]}\n",
    "\n",
    "bbbp_xgb_gb = GridSearchCV(XGBClassifier(random_state=32), parameters, cv=5, scoring='roc_auc',n_jobs=-1)"
   ]
  },
  {
   "cell_type": "code",
   "execution_count": 91,
   "metadata": {},
   "outputs": [],
   "source": [
    "result = bbbp_xgb_gb.fit(X_train, y_train)"
   ]
  },
  {
   "cell_type": "code",
   "execution_count": 92,
   "metadata": {},
   "outputs": [
    {
     "name": "stdout",
     "output_type": "stream",
     "text": [
      "XGBClassifier(base_score=0.5, booster='gbtree', colsample_bylevel=1,\n",
      "              colsample_bynode=1, colsample_bytree=1, gamma=0, gpu_id=-1,\n",
      "              importance_type='gain', interaction_constraints='',\n",
      "              learning_rate=0.1, max_delta_step=0, max_depth=3,\n",
      "              min_child_weight=1, missing=nan, monotone_constraints='()',\n",
      "              n_estimators=75, n_jobs=0, num_parallel_tree=1, random_state=32,\n",
      "              reg_alpha=0.1, reg_lambda=0.5, scale_pos_weight=1, subsample=1,\n",
      "              tree_method='exact', validate_parameters=1, verbosity=None)\n"
     ]
    }
   ],
   "source": [
    "print(result.best_estimator_)"
   ]
  },
  {
   "cell_type": "code",
   "execution_count": 93,
   "metadata": {},
   "outputs": [
    {
     "name": "stdout",
     "output_type": "stream",
     "text": [
      "0.940998815998816\n"
     ]
    }
   ],
   "source": [
    "print(result.best_score_)"
   ]
  },
  {
   "cell_type": "code",
   "execution_count": 94,
   "metadata": {},
   "outputs": [],
   "source": [
    "pred = bbbp_xgb_gb.predict_proba(X_valid)"
   ]
  },
  {
   "cell_type": "code",
   "execution_count": 95,
   "metadata": {},
   "outputs": [
    {
     "data": {
      "text/plain": [
       "CalibratedClassifierCV(base_estimator=GridSearchCV(cv=5,\n",
       "                                                   estimator=XGBClassifier(base_score=None,\n",
       "                                                                           booster=None,\n",
       "                                                                           colsample_bylevel=None,\n",
       "                                                                           colsample_bynode=None,\n",
       "                                                                           colsample_bytree=None,\n",
       "                                                                           gamma=None,\n",
       "                                                                           gpu_id=None,\n",
       "                                                                           importance_type='gain',\n",
       "                                                                           interaction_constraints=None,\n",
       "                                                                           learning_rate=None,\n",
       "                                                                           max_delta_step=None,\n",
       "                                                                           max_depth=None,\n",
       "                                                                           min_child_weight=None,\n",
       "                                                                           missing=nan,\n",
       "                                                                           monotone_co...\n",
       "                                                                           random_state=32,\n",
       "                                                                           reg_alpha=None,\n",
       "                                                                           reg_lambda=None,\n",
       "                                                                           scale_pos_weight=None,\n",
       "                                                                           subsample=None,\n",
       "                                                                           tree_method=None,\n",
       "                                                                           validate_parameters=None,\n",
       "                                                                           verbosity=None),\n",
       "                                                   n_jobs=-1,\n",
       "                                                   param_grid={'booster': ['gbtree',\n",
       "                                                                           'dart'],\n",
       "                                                               'learning_rate': [0.05,\n",
       "                                                                                 0.1,\n",
       "                                                                                 0.15],\n",
       "                                                               'max_depth': [3,\n",
       "                                                                             4,\n",
       "                                                                             5],\n",
       "                                                               'n_estimators': [75,\n",
       "                                                                                100,\n",
       "                                                                                125],\n",
       "                                                               'reg_alpha': [0.0,\n",
       "                                                                             0.1,\n",
       "                                                                             0.05],\n",
       "                                                               'reg_lambda': [0.0,\n",
       "                                                                              0.1,\n",
       "                                                                              0.5,\n",
       "                                                                              1.0]},\n",
       "                                                   scoring='roc_auc'),\n",
       "                       cv='prefit')"
      ]
     },
     "execution_count": 95,
     "metadata": {},
     "output_type": "execute_result"
    }
   ],
   "source": [
    "bbbp_xgb_gb_calib = CalibratedClassifierCV(bbbp_xgb_gb, cv='prefit')\n",
    "bbbp_xgb_gb_calib.fit(X_valid, y_valid)"
   ]
  },
  {
   "cell_type": "code",
   "execution_count": 96,
   "metadata": {},
   "outputs": [],
   "source": [
    "pred = bbbp_xgb_gb.predict_proba(X_valid)\n",
    "pred = pred[:,1]\n",
    "pred_xgb_gb_t= np.copy(pred)"
   ]
  },
  {
   "cell_type": "code",
   "execution_count": 97,
   "metadata": {},
   "outputs": [
    {
     "name": "stdout",
     "output_type": "stream",
     "text": [
      "[0.348]\n"
     ]
    }
   ],
   "source": [
    "threshold = Find_Optimal_threshold(y_valid, pred)\n",
    "print(threshold)"
   ]
  },
  {
   "cell_type": "code",
   "execution_count": 98,
   "metadata": {},
   "outputs": [
    {
     "data": {
      "text/plain": [
       "0.9259259259259259"
      ]
     },
     "execution_count": 98,
     "metadata": {},
     "output_type": "execute_result"
    }
   ],
   "source": [
    "pred = bbbp_xgb_gb_calib.predict(X_test)\n",
    "f1_score(y_test,pred)"
   ]
  },
  {
   "cell_type": "code",
   "execution_count": 99,
   "metadata": {},
   "outputs": [
    {
     "data": {
      "text/plain": [
       "0.9180021367521367"
      ]
     },
     "execution_count": 99,
     "metadata": {},
     "output_type": "execute_result"
    }
   ],
   "source": [
    "pred = bbbp_xgb_gb_calib.predict_proba(X_test)\n",
    "roc_auc_score(y_test,pred[:,1])"
   ]
  },
  {
   "cell_type": "code",
   "execution_count": 100,
   "metadata": {},
   "outputs": [
    {
     "name": "stdout",
     "output_type": "stream",
     "text": [
      "0.9333333333333333\n"
     ]
    }
   ],
   "source": [
    "pred = pred[:,1]\n",
    "pred_xgb_gb = np.copy(pred)\n",
    "pred[pred<=threshold] = 0\n",
    "pred[pred>threshold] = 1\n",
    "xgb_gb_score = f1_score(y_test,pred)\n",
    "print(xgb_gb_score)"
   ]
  },
  {
   "cell_type": "code",
   "execution_count": 101,
   "metadata": {},
   "outputs": [
    {
     "name": "stdout",
     "output_type": "stream",
     "text": [
      "[1]\n",
      "[[0.05323249 0.94676751]]\n",
      "1\n"
     ]
    }
   ],
   "source": [
    "result = bbbp_xgb_gb_calib.predict(y)\n",
    "prob = bbbp_xgb_gb_calib.predict_proba(y)\n",
    "print(result)\n",
    "print(prob)\n",
    "print(int(prob[:,1]>=threshold))"
   ]
  },
  {
   "cell_type": "code",
   "execution_count": 102,
   "metadata": {},
   "outputs": [],
   "source": [
    "pred = (pred_svc_t+pred_nn_t.flatten()+pred_svc_gb_t+pred_xgb_gb_t)/4"
   ]
  },
  {
   "cell_type": "code",
   "execution_count": 103,
   "metadata": {},
   "outputs": [
    {
     "name": "stdout",
     "output_type": "stream",
     "text": [
      "[0.202]\n"
     ]
    }
   ],
   "source": [
    "threshold = Find_Optimal_threshold(y_valid, pred)\n",
    "print(threshold)"
   ]
  },
  {
   "cell_type": "code",
   "execution_count": 104,
   "metadata": {},
   "outputs": [],
   "source": [
    "pred = (pred_svc+pred_nn.flatten()+pred_svc_gb+pred_xgb_gb)/4\n",
    "pred[pred<=threshold] = 0\n",
    "pred[pred>threshold] = 1\n",
    "ave_score = f1_score(y_test,pred)"
   ]
  },
  {
   "cell_type": "code",
   "execution_count": 106,
   "metadata": {},
   "outputs": [
    {
     "data": {
      "text/plain": [
       "[(0.75, 0.98)]"
      ]
     },
     "execution_count": 106,
     "metadata": {},
     "output_type": "execute_result"
    },
    {
     "data": {
      "image/png": "[encoded data removed]",
      "text/plain": [
       "<Figure size 432x288 with 1 Axes>"
      ]
     },
     "metadata": {
      "image/png": {
       "height": 259,
       "width": 405
      }
     },
     "output_type": "display_data"
    }
   ],
   "source": [
    "sns.set(style=\"whitegrid\")\n",
    "ax = sns.barplot(x=[svc_score,nn_score,svc_gb_score,xgb_gb_score,ave_score],\n",
    "                 y=['SVC','NN','SVC_GB','XGB_GB','ave'])\n",
    "ax.set(xlim=(0.75, None))"
   ]
  },
  {
   "cell_type": "code",
   "execution_count": null,
   "metadata": {},
   "outputs": [],
   "source": []
  }
 ],
 "metadata": {
  "colab": {
   "collapsed_sections": [],
   "name": "Assignment 3 Submission",
   "provenance": []
  },
  "kernelspec": {
   "display_name": "Python 3",
   "language": "python",
   "name": "python3"
  },
  "language_info": {
   "codemirror_mode": {
    "name": "ipython",
    "version": 3
   },
   "file_extension": ".py",
   "mimetype": "text/x-python",
   "name": "python",
   "nbconvert_exporter": "python",
   "pygments_lexer": "ipython3",
   "version": "3.8.5"
  },
  "toc": {
   "base_numbering": 1,
   "nav_menu": {},
   "number_sections": true,
   "sideBar": true,
   "skip_h1_title": false,
   "title_cell": "Table of Contents",
   "title_sidebar": "Contents",
   "toc_cell": false,
   "toc_position": {},
   "toc_section_display": true,
   "toc_window_display": false
  }
 },
 "nbformat": 4,
 "nbformat_minor": 1
}
